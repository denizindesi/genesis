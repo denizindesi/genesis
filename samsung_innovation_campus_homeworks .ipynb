{
 "cells": [
  {
   "cell_type": "code",
   "execution_count": 1,
   "id": "bb13baa7",
   "metadata": {},
   "outputs": [
    {
     "name": "stdout",
     "output_type": "stream",
     "text": [
      "     *\n",
      "    ***\n",
      "   *****\n",
      " *********\n",
      "   *****\n",
      "    ***\n",
      "     *\n"
     ]
    }
   ],
   "source": [
    "space = \" \"  # space is a single space variable \n",
    "\n",
    "print(space * 4, \"*\" * 1)\n",
    "print(space * 3, \"*\" * 3)\n",
    "print(space * 2, \"*\" * 5)\n",
    "print(space * 0, \"*\" * 9)\n",
    "print(space * 2, \"*\" * 5)\n",
    "print(space * 3, \"*\" * 3)\n",
    "print(space * 4, \"*\" * 1)"
   ]
  },
  {
   "cell_type": "code",
   "execution_count": 2,
   "id": "afcc7da5",
   "metadata": {},
   "outputs": [
    {
     "name": "stdout",
     "output_type": "stream",
     "text": [
      "                                                       *\n",
      "                                                      ***\n",
      "                                                     *****\n",
      "                                                   *********\n",
      "                                                     *****\n",
      "                                                      ***\n",
      "                                                       *\n"
     ]
    }
   ],
   "source": [
    "space = \" \"  # space is a single space variable \n",
    "space_x = 50 * space #space_x variable will be used for intendation \n",
    "\n",
    "print(space_x + space * 4, \"*\" * 1)\n",
    "print(space_x + space * 3, \"*\" * 3)\n",
    "print(space_x + space * 2, \"*\" * 5)\n",
    "print(space_x + space * 0, \"*\" * 9)\n",
    "print(space_x + space * 2, \"*\" * 5)\n",
    "print(space_x + space * 3, \"*\" * 3)\n",
    "print(space_x + space * 4, \"*\" * 1)"
   ]
  },
  {
   "cell_type": "code",
   "execution_count": 3,
   "id": "9a1f936f",
   "metadata": {},
   "outputs": [
    {
     "name": "stdout",
     "output_type": "stream",
     "text": [
      "               *\n",
      "              ***\n",
      "             *****\n",
      "           *********\n",
      "             *****\n",
      "              ***\n",
      "               *\n"
     ]
    }
   ],
   "source": [
    "space = \" \"  # space is a single space variable \n",
    "space_x = 10 * space #space_x variable will be used for intendation \n",
    "\n",
    "print(space_x + space * 4, \"*\" * 1)\n",
    "print(space_x + space * 3, \"*\" * 3)\n",
    "print(space_x + space * 2, \"*\" * 5)\n",
    "print(space_x + space * 0, \"*\" * 9)\n",
    "print(space_x + space * 2, \"*\" * 5)\n",
    "print(space_x + space * 3, \"*\" * 3)\n",
    "print(space_x + space * 4, \"*\" * 1)"
   ]
  },
  {
   "cell_type": "code",
   "execution_count": null,
   "id": "4d4b8fd5",
   "metadata": {},
   "outputs": [],
   "source": [
    "x = int(input(\"enter a number,positive please better even\"))\n",
    "upper = int((x+1)/2)  #the number of most asteriks\n",
    "space = \" \"\n",
    "space_x = int(input(\"how many space you want indent?\"))\n",
    "\n",
    "for i in range (0,upper):\n",
    "    print(space*(x-(i)) + \"*\" * (2 * i +1))\n",
    "for i in range (upper-1,-1,-1):\n",
    "    print(space*(x-(i)) + \"*\" * (2 * i +1 ))\n"
   ]
  },
  {
   "cell_type": "code",
   "execution_count": null,
   "id": "5dd89268",
   "metadata": {},
   "outputs": [],
   "source": [
    "for i in range (6,-1,-1):\n",
    "    print(i)"
   ]
  },
  {
   "cell_type": "code",
   "execution_count": null,
   "id": "e33412ed",
   "metadata": {},
   "outputs": [],
   "source": [
    "for i in range (0,6):\n",
    "    print(i)"
   ]
  },
  {
   "cell_type": "code",
   "execution_count": null,
   "id": "039dc15f",
   "metadata": {},
   "outputs": [],
   "source": [
    "                 \n",
    "print(\"Hello,i will introduce myself\")\n",
    "print(\"My name: Huseyin\")\n",
    "print(\"Age: 30\")\n",
    "print(\"Job: Math Tutor  \")\n",
    "print(\"Adres: Baglar, Diyarbakir\")\n",
    "print(\"Place of Birth:Kulp/Diyarbakir, TR\")\n",
    "\n"
   ]
  },
  {
   "cell_type": "code",
   "execution_count": null,
   "id": "9910bfbb",
   "metadata": {},
   "outputs": [],
   "source": [
    "import math\n",
    "\n",
    "def print_factors(*numbers):\n",
    "    for x in numbers:\n",
    "        if x < 1:\n",
    "            print(\"No factors for numbers less than 1.\")\n",
    "            continue\n",
    "\n",
    "        lower_factors = []  # To store factors less than or equal to the square root\n",
    "        upper_factors = []  # To store factors greater than the square root\n",
    "\n",
    "        # Iterate up to the square root of n\n",
    "        for i in range(1, int(math.sqrt(x)) + 1):\n",
    "            if x % i == 0:\n",
    "                lower_factors.append(i)\n",
    "                if i != x // i:\n",
    "                    upper_factors.append(x // i)\n",
    "\n",
    "        # Combine the lists: lower factors and reversed upper factors\n",
    "        factors = lower_factors + upper_factors[::-1]\n",
    "\n",
    "        print(f\"Factors of {x}: {factors}\")\n",
    "\n",
    "# Example usage\n",
    "print_factors(18,39,63,126,792)  # This will print the factors of 121, 144, and 156\n",
    "\n"
   ]
  },
  {
   "cell_type": "code",
   "execution_count": null,
   "id": "fe592ad0",
   "metadata": {},
   "outputs": [],
   "source": [
    "import time\n",
    "\n",
    "start_time = time.time()\n",
    "print_factors(121,144,156)  # Call your function with some input\n",
    "end_time = time.time()\n",
    "\n",
    "print(f\"Execution time: {end_time - start_time} seconds\")\n"
   ]
  },
  {
   "cell_type": "markdown",
   "id": "c1c0f303",
   "metadata": {},
   "source": [
    "***Unit3-4-5 Paper and Pair Codings Examples***"
   ]
  },
  {
   "cell_type": "code",
   "execution_count": null,
   "id": "117c1bd4",
   "metadata": {},
   "outputs": [],
   "source": [
    "a =\"1\"+\"0\"+\"0\"+\"0\"\n",
    "print(a)\n",
    "print(type(a))\n",
    "a = int(a)\n",
    "print(a)\n",
    "print(type(a))"
   ]
  },
  {
   "cell_type": "code",
   "execution_count": null,
   "id": "6e127dc0",
   "metadata": {},
   "outputs": [],
   "source": [
    "#factorial function\n",
    "\n",
    "def fact(x):\n",
    "   a = 1 #initialize a\n",
    "   for i in range(1,x+1):\n",
    "        a = a * i\n",
    "   print(x,\"! = \",a)\n",
    "   return a \n",
    "\n",
    "fact(5)\n",
    "fact(-5)"
   ]
  },
  {
   "cell_type": "code",
   "execution_count": null,
   "id": "1676416f",
   "metadata": {},
   "outputs": [],
   "source": [
    "def fact(x):\n",
    "    if not isinstance(x, int) or x < 0:    #if parameter of function is noninteger or negative \n",
    "        print(\"Input must be a non-negative integer\")\n",
    "        return None\n",
    "\n",
    "    a = 1\n",
    "    for i in range(1, x + 1):\n",
    "        a *= i\n",
    "    print(x, \"! =\", a)\n",
    "    return a\n"
   ]
  },
  {
   "cell_type": "code",
   "execution_count": null,
   "id": "9ac4c9ee",
   "metadata": {},
   "outputs": [],
   "source": [
    "fact(-5)"
   ]
  },
  {
   "cell_type": "code",
   "execution_count": null,
   "id": "77968e14",
   "metadata": {},
   "outputs": [],
   "source": [
    "x = input (\"give the width of rectangle\")\n",
    "y = input (\"give the height of rectangle\")\n",
    "if not isinstance(x,y, float) or x,y < 0:    #if parameter of function is non float or negative \n",
    "        print(\"Input must be a non-negative integer\")\n",
    "        return None"
   ]
  },
  {
   "cell_type": "code",
   "execution_count": null,
   "id": "b4f11010",
   "metadata": {},
   "outputs": [],
   "source": [
    "x = input(\"input the width of the rectangle: \")\n",
    "y = input(\"input the height of the rectangle: \")\n",
    "\n",
    "try:\n",
    "    x = float(x)\n",
    "    y = float(y)\n",
    "    if x < 0 or y < 0:\n",
    "        \n",
    "        print(\"Inputs must be non-negative numbers.\")\n",
    "    else:\n",
    "       print(\"area of rectangle: \",x*y )\n",
    "except ValueError:\n",
    "    print(\"Inputs must be numbers.\")\n"
   ]
  },
  {
   "cell_type": "code",
   "execution_count": null,
   "id": "14c6870f",
   "metadata": {},
   "outputs": [],
   "source": [
    "import math \n",
    "a = float(input(\"enter the bottom of the first line: \"))\n",
    "b = float(input(\"enter the height of the second line: \"))\n",
    "\n",
    "c = math.sqrt(a**2 + b**2)\n",
    "print(\"the length of hypotenuse is the: \",c )\n"
   ]
  },
  {
   "cell_type": "code",
   "execution_count": null,
   "id": "53f9ae29",
   "metadata": {},
   "outputs": [],
   "source": [
    "import math \n",
    "r = float(input(\"enter the raidus of circle\"))\n",
    "area = math.pi*r**2\n",
    "print(\"area of circle = \",area)\n",
    "\n",
    "circumference = 2*math.pi*r\n",
    "print(\"circumference = \",circumference)"
   ]
  },
  {
   "cell_type": "code",
   "execution_count": null,
   "id": "5bb781e8",
   "metadata": {},
   "outputs": [],
   "source": [
    "print(\"a  n   a**n\")\n",
    "for i in range(2,7):  \n",
    "    \n",
    "    print(str(i) + \"**2 =\",i**2)"
   ]
  },
  {
   "cell_type": "code",
   "execution_count": null,
   "id": "d2f48c91",
   "metadata": {},
   "outputs": [],
   "source": [
    "a = int(input(\"enter an integer \"))\n",
    "print(\"is the integer odd?::\",a % 2 != 0)"
   ]
  },
  {
   "cell_type": "code",
   "execution_count": null,
   "id": "1728fa4a",
   "metadata": {},
   "outputs": [],
   "source": [
    "a = int(input(\"enter an integer \"))\n",
    "print(\"is the input an even integer between 0 or 100 ::\",a % 2 == 0 and a <= 100 and a >= 0)"
   ]
  },
  {
   "cell_type": "code",
   "execution_count": null,
   "id": "887b943c",
   "metadata": {},
   "outputs": [],
   "source": [
    "a = int(input(\"enter an integer \"))\n",
    "print(\"is hundredth digit of the integer 3 ?:\",a//100 == 3)"
   ]
  },
  {
   "cell_type": "code",
   "execution_count": null,
   "id": "9a9b56f6",
   "metadata": {},
   "outputs": [],
   "source": [
    "a = int(input(\"enter an integer \"))\n",
    "print(\"is the number a multiple of 5? :\",a % 5 == 0)"
   ]
  },
  {
   "cell_type": "markdown",
   "id": "c06c0a36",
   "metadata": {},
   "source": [
    "***Unit 6-7-8-9 Paper and Pair Codings Examples"
   ]
  },
  {
   "cell_type": "code",
   "execution_count": null,
   "id": "70bd1a26",
   "metadata": {},
   "outputs": [],
   "source": [
    "def func(x):\n",
    "    pass\n",
    "func(5)"
   ]
  },
  {
   "cell_type": "code",
   "execution_count": null,
   "id": "8a493568",
   "metadata": {},
   "outputs": [],
   "source": [
    "game_score = int(input(\"enter the game score: \"))\n",
    "\n",
    "if game_score >= 1500:\n",
    "    print(\"you are a master\")\n",
    "else:\n",
    "    print(\"you are nothing!\")"
   ]
  },
  {
   "cell_type": "code",
   "execution_count": null,
   "id": "932e42ce",
   "metadata": {},
   "outputs": [],
   "source": [
    "x = int(input(\"enter an integer between -100 and 100\"))\n",
    "\n",
    "if x>0:\n",
    "    print(\"x is a natural number!\")\n",
    "else:\n",
    "    print(\"x = \",x)"
   ]
  },
  {
   "cell_type": "code",
   "execution_count": 8,
   "id": "5f86f649",
   "metadata": {},
   "outputs": [
    {
     "name": "stdout",
     "output_type": "stream",
     "text": [
      "enter three number separated by,:10,20,30\n",
      "10 20 30\n"
     ]
    }
   ],
   "source": [
    "num1, num2, num3 = input(\"enter three number separated by,:\").split(\",\")\n",
    "num1, num2, num3 = int(num1), int(num2), int(num3)\n",
    "print(num1, num2, num3)"
   ]
  },
  {
   "cell_type": "code",
   "execution_count": 11,
   "id": "8d5ae45c",
   "metadata": {},
   "outputs": [
    {
     "name": "stdout",
     "output_type": "stream",
     "text": [
      "enter the age: 25\n",
      "Adult\n"
     ]
    }
   ],
   "source": [
    "age = int(input(\"enter the age: \"))\n",
    "if age  > 20:\n",
    "    print(\"Adult\")\n",
    "elif age >= 10:\n",
    "    print(\"Young\")\n",
    "else:\n",
    "    print(\"Kid\")"
   ]
  }
 ],
 "metadata": {
  "kernelspec": {
   "display_name": "Python 3 (ipykernel)",
   "language": "python",
   "name": "python3"
  },
  "language_info": {
   "codemirror_mode": {
    "name": "ipython",
    "version": 3
   },
   "file_extension": ".py",
   "mimetype": "text/x-python",
   "name": "python",
   "nbconvert_exporter": "python",
   "pygments_lexer": "ipython3",
   "version": "3.11.5"
  }
 },
 "nbformat": 4,
 "nbformat_minor": 5
}
