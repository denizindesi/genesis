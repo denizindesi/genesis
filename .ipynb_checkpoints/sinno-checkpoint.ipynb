{
 "cells": [
  {
   "cell_type": "code",
   "execution_count": null,
   "id": "bb13baa7",
   "metadata": {},
   "outputs": [],
   "source": [
    "space = \" \"  # space is a single space variable \n",
    "\n",
    "print(space * 4, \"*\" * 1)\n",
    "print(space * 3, \"*\" * 3)\n",
    "print(space * 2, \"*\" * 5)\n",
    "print(space * 0, \"*\" * 9)\n",
    "print(space * 2, \"*\" * 5)\n",
    "print(space * 3, \"*\" * 3)\n",
    "print(space * 4, \"*\" * 1)"
   ]
  },
  {
   "cell_type": "code",
   "execution_count": null,
   "id": "afcc7da5",
   "metadata": {},
   "outputs": [],
   "source": [
    "space = \" \"  # space is a single space variable \n",
    "space_x = 50 * space #space_x variable will be used for intendation \n",
    "\n",
    "print(space_x + space * 4, \"*\" * 1)\n",
    "print(space_x + space * 3, \"*\" * 3)\n",
    "print(space_x + space * 2, \"*\" * 5)\n",
    "print(space_x + space * 0, \"*\" * 9)\n",
    "print(space_x + space * 2, \"*\" * 5)\n",
    "print(space_x + space * 3, \"*\" * 3)\n",
    "print(space_x + space * 4, \"*\" * 1)"
   ]
  },
  {
   "cell_type": "code",
   "execution_count": 27,
   "id": "9a1f936f",
   "metadata": {},
   "outputs": [
    {
     "name": "stdout",
     "output_type": "stream",
     "text": [
      "                         *\n",
      "                        ***\n",
      "                       *****\n",
      "                     *********\n",
      "                       *****\n",
      "                        ***\n",
      "                         *\n"
     ]
    }
   ],
   "source": [
    "space = \" \"  # space is a single space variable \n",
    "space_x = 10 * space #space_x variable will be used for intendation \n",
    "\n",
    "print(space_x + space * 4, \"*\" * 1)\n",
    "print(space_x + space * 3, \"*\" * 3)\n",
    "print(space_x + space * 2, \"*\" * 5)\n",
    "print(space_x + space * 0, \"*\" * 9)\n",
    "print(space_x + space * 2, \"*\" * 5)\n",
    "print(space_x + space * 3, \"*\" * 3)\n",
    "print(space_x + space * 4, \"*\" * 1)"
   ]
  },
  {
   "cell_type": "code",
   "execution_count": null,
   "id": "4d4b8fd5",
   "metadata": {},
   "outputs": [],
   "source": [
    "x = int(input(\"enter a number,positive please better even\"))\n",
    "upper = int((x+1)/2)  #the number of most asteriks\n",
    "space = \" \"\n",
    "space_x = int(input(\"how many space you want indent?\"))\n",
    "\n",
    "for i in range (0,upper):\n",
    "    print(space*(x-(i)) + \"*\" * (2 * i +1))\n",
    "for i in range (upper-1,-1,-1):\n",
    "    print(space*(x-(i)) + \"*\" * (2 * i +1 ))\n"
   ]
  },
  {
   "cell_type": "code",
   "execution_count": 73,
   "id": "5dd89268",
   "metadata": {},
   "outputs": [
    {
     "name": "stdout",
     "output_type": "stream",
     "text": [
      "6\n",
      "5\n",
      "4\n",
      "3\n",
      "2\n",
      "1\n",
      "0\n"
     ]
    }
   ],
   "source": [
    "for i in range (6,-1,-1):\n",
    "    print(i)"
   ]
  },
  {
   "cell_type": "code",
   "execution_count": 78,
   "id": "e33412ed",
   "metadata": {},
   "outputs": [
    {
     "name": "stdout",
     "output_type": "stream",
     "text": [
      "0\n",
      "1\n",
      "2\n",
      "3\n",
      "4\n",
      "5\n"
     ]
    }
   ],
   "source": [
    "for i in range (0,6):\n",
    "    print(i)"
   ]
  },
  {
   "cell_type": "code",
   "execution_count": 33,
   "id": "039dc15f",
   "metadata": {},
   "outputs": [
    {
     "name": "stdout",
     "output_type": "stream",
     "text": [
      "Hello,i will introduce myself\n",
      "My name: Huseyin\n",
      "Age: 30\n",
      "Job: Math Tutor  \n",
      "Adres: Baglar, Diyarbakir\n",
      "Place of Birth:Kulp/Diyarbakir, TR\n"
     ]
    }
   ],
   "source": [
    "                 \n",
    "print(\"Hello,i will introduce myself\")\n",
    "print(\"My name: Huseyin\")\n",
    "print(\"Age: 30\")\n",
    "print(\"Job: Math Tutor  \")\n",
    "print(\"Adres: Baglar, Diyarbakir\")\n",
    "print(\"Place of Birth:Kulp/Diyarbakir, TR\")\n",
    "\n"
   ]
  },
  {
   "cell_type": "markdown",
   "id": "60c6c734",
   "metadata": {},
   "source": [
    "# Birinci Cuma Ödevleri "
   ]
  },
  {
   "cell_type": "code",
   "execution_count": 2,
   "id": "9910bfbb",
   "metadata": {},
   "outputs": [
    {
     "name": "stdout",
     "output_type": "stream",
     "text": [
      "Factors of 121: [1, 11, 121]\n",
      "Factors of 144: [1, 2, 3, 4, 6, 8, 9, 12, 16, 18, 24, 36, 48, 72, 144]\n",
      "Factors of 156: [1, 2, 3, 4, 6, 12, 13, 26, 39, 52, 78, 156]\n",
      "Factors of 2024: [1, 2, 4, 8, 11, 22, 23, 44, 46, 88, 92, 184, 253, 506, 1012, 2024]\n",
      "Factors of 141292: [1, 2, 4, 35323, 70646, 141292]\n"
     ]
    }
   ],
   "source": [
    "import math\n",
    "\n",
    "def print_factors(*numbers):\n",
    "    for x in numbers:\n",
    "        if x < 1:\n",
    "            print(\"No factors for numbers less than 1.\")\n",
    "            continue\n",
    "\n",
    "        lower_factors = []  # To store factors less than or equal to the square root\n",
    "        upper_factors = []  # To store factors greater than the square root\n",
    "\n",
    "        # Iterate up to the square root of n\n",
    "        for i in range(1, int(math.sqrt(x)) + 1):\n",
    "            if x % i == 0:\n",
    "                lower_factors.append(i)\n",
    "                if i != x // i:\n",
    "                    upper_factors.append(x // i)\n",
    "\n",
    "        # Combine the lists: lower factors and reversed upper factors\n",
    "        factors = lower_factors + upper_factors[::-1]\n",
    "\n",
    "        print(f\"Factors of {x}: {factors}\")\n",
    "\n",
    "# Example usage\n",
    "print_factors(121, 144, 156,2024,141292)  # This will print the factors of 121, 144, and 156\n",
    "\n"
   ]
  },
  {
   "cell_type": "code",
   "execution_count": 3,
   "id": "fe592ad0",
   "metadata": {},
   "outputs": [
    {
     "name": "stdout",
     "output_type": "stream",
     "text": [
      "Factors of 121: [1, 11, 121]\n",
      "Factors of 144: [1, 2, 3, 4, 6, 8, 9, 12, 16, 18, 24, 36, 48, 72, 144]\n",
      "Factors of 156: [1, 2, 3, 4, 6, 12, 13, 26, 39, 52, 78, 156]\n",
      "Execution time: 0.0005247592926025391 seconds\n"
     ]
    }
   ],
   "source": [
    "import time\n",
    "\n",
    "start_time = time.time()\n",
    "print_factors(121,144,156)  # Call your function with some input\n",
    "end_time = time.time()\n",
    "\n",
    "print(f\"Execution time: {end_time - start_time} seconds\")\n"
   ]
  }
 ],
 "metadata": {
  "kernelspec": {
   "display_name": "Python 3 (ipykernel)",
   "language": "python",
   "name": "python3"
  },
  "language_info": {
   "codemirror_mode": {
    "name": "ipython",
    "version": 3
   },
   "file_extension": ".py",
   "mimetype": "text/x-python",
   "name": "python",
   "nbconvert_exporter": "python",
   "pygments_lexer": "ipython3",
   "version": "3.11.5"
  }
 },
 "nbformat": 4,
 "nbformat_minor": 5
}
