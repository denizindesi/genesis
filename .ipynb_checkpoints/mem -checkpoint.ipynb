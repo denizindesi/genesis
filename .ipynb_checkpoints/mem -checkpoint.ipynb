{
 "cells": [
  {
   "cell_type": "code",
   "execution_count": null,
   "id": "2adc219a",
   "metadata": {},
   "outputs": [],
   "source": [
    "import math \n",
    "\n",
    "# Initialize an empty list to store the integers\n",
    "bolunen_pol = []\n",
    "a,b,c = 0, 0, 0\n",
    "# Get input from the user until they press Enter without entering anything\n",
    "while True:\n",
    "    user_input = input(\"Enter an integer (press Enter to finish): \")\n",
    "    \n",
    "    # Check if the user pressed Enter without entering anything\n",
    "    if user_input == \"\":\n",
    "        break\n",
    "    \n",
    "    try:\n",
    "        # Try to convert the user input to an integer\n",
    "        integer_value = int(user_input)\n",
    "        bolunen_pol.append(integer_value)\n",
    "    except ValueError:\n",
    "        print(\"Invalid input. Please enter a valid integer.\")\n",
    "\n",
    "# Print the list of integers entered by the user\n",
    "print(\"bolunen_pol:\", bolunen_pol)\n",
    "\n",
    "a = bolunen_pol[0]\n",
    "b = bolunen_pol[1]\n",
    "c = bolunen_pol[2]\n",
    "\n",
    "delta =  math.sqrt(b**2-4*a*c)\n",
    "x1 = (-b + delta)/(2*a)\n",
    "x2 = (-b - delta)/(2*a)\n"
   ]
  },
  {
   "cell_type": "code",
   "execution_count": null,
   "id": "602a2414",
   "metadata": {},
   "outputs": [],
   "source": []
  }
 ],
 "metadata": {
  "kernelspec": {
   "display_name": "Python 3 (ipykernel)",
   "language": "python",
   "name": "python3"
  },
  "language_info": {
   "codemirror_mode": {
    "name": "ipython",
    "version": 3
   },
   "file_extension": ".py",
   "mimetype": "text/x-python",
   "name": "python",
   "nbconvert_exporter": "python",
   "pygments_lexer": "ipython3",
   "version": "3.11.5"
  }
 },
 "nbformat": 4,
 "nbformat_minor": 5
}
