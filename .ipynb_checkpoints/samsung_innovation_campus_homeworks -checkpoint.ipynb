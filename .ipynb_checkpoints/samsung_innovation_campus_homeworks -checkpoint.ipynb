{
 "cells": [
  {
   "cell_type": "code",
   "execution_count": 1,
   "id": "bb13baa7",
   "metadata": {},
   "outputs": [
    {
     "name": "stdout",
     "output_type": "stream",
     "text": [
      "     *\n",
      "    ***\n",
      "   *****\n",
      " *********\n",
      "   *****\n",
      "    ***\n",
      "     *\n"
     ]
    }
   ],
   "source": [
    "space = \" \"  # space is a single space variable \n",
    "\n",
    "print(space * 4, \"*\" * 1)\n",
    "print(space * 3, \"*\" * 3)\n",
    "print(space * 2, \"*\" * 5)\n",
    "print(space * 0, \"*\" * 9)\n",
    "print(space * 2, \"*\" * 5)\n",
    "print(space * 3, \"*\" * 3)\n",
    "print(space * 4, \"*\" * 1)"
   ]
  },
  {
   "cell_type": "code",
   "execution_count": 2,
   "id": "afcc7da5",
   "metadata": {},
   "outputs": [
    {
     "name": "stdout",
     "output_type": "stream",
     "text": [
      "                                                       *\n",
      "                                                      ***\n",
      "                                                     *****\n",
      "                                                   *********\n",
      "                                                     *****\n",
      "                                                      ***\n",
      "                                                       *\n"
     ]
    }
   ],
   "source": [
    "space = \" \"  # space is a single space variable \n",
    "space_x = 50 * space #space_x variable will be used for intendation \n",
    "\n",
    "print(space_x + space * 4, \"*\" * 1)\n",
    "print(space_x + space * 3, \"*\" * 3)\n",
    "print(space_x + space * 2, \"*\" * 5)\n",
    "print(space_x + space * 0, \"*\" * 9)\n",
    "print(space_x + space * 2, \"*\" * 5)\n",
    "print(space_x + space * 3, \"*\" * 3)\n",
    "print(space_x + space * 4, \"*\" * 1)"
   ]
  },
  {
   "cell_type": "code",
   "execution_count": 3,
   "id": "9a1f936f",
   "metadata": {},
   "outputs": [
    {
     "name": "stdout",
     "output_type": "stream",
     "text": [
      "               *\n",
      "              ***\n",
      "             *****\n",
      "           *********\n",
      "             *****\n",
      "              ***\n",
      "               *\n"
     ]
    }
   ],
   "source": [
    "space = \" \"  # space is a single space variable \n",
    "space_x = 10 * space #space_x variable will be used for intendation \n",
    "\n",
    "print(space_x + space * 4, \"*\" * 1)\n",
    "print(space_x + space * 3, \"*\" * 3)\n",
    "print(space_x + space * 2, \"*\" * 5)\n",
    "print(space_x + space * 0, \"*\" * 9)\n",
    "print(space_x + space * 2, \"*\" * 5)\n",
    "print(space_x + space * 3, \"*\" * 3)\n",
    "print(space_x + space * 4, \"*\" * 1)"
   ]
  },
  {
   "cell_type": "code",
   "execution_count": null,
   "id": "4d4b8fd5",
   "metadata": {},
   "outputs": [],
   "source": [
    "x = int(input(\"enter a number,positive please better even\"))\n",
    "upper = int((x+1)/2)  #the number of most asteriks\n",
    "space = \" \"\n",
    "space_x = int(input(\"how many space you want indent?\"))\n",
    "\n",
    "for i in range (0,upper):\n",
    "    print(space*(x-(i)) + \"*\" * (2 * i +1))\n",
    "for i in range (upper-1,-1,-1):\n",
    "    print(space*(x-(i)) + \"*\" * (2 * i +1 ))\n"
   ]
  },
  {
   "cell_type": "code",
   "execution_count": null,
   "id": "5dd89268",
   "metadata": {},
   "outputs": [],
   "source": [
    "for i in range (6,-1,-1):\n",
    "    print(i)"
   ]
  },
  {
   "cell_type": "code",
   "execution_count": null,
   "id": "e33412ed",
   "metadata": {},
   "outputs": [],
   "source": [
    "for i in range (0,6):\n",
    "    print(i)"
   ]
  },
  {
   "cell_type": "code",
   "execution_count": null,
   "id": "039dc15f",
   "metadata": {},
   "outputs": [],
   "source": [
    "                 \n",
    "print(\"Hello,i will introduce myself\")\n",
    "print(\"My name: Huseyin\")\n",
    "print(\"Age: 30\")\n",
    "print(\"Job: Math Tutor  \")\n",
    "print(\"Adres: Baglar, Diyarbakir\")\n",
    "print(\"Place of Birth:Kulp/Diyarbakir, TR\")\n",
    "\n"
   ]
  },
  {
   "cell_type": "code",
   "execution_count": null,
   "id": "9910bfbb",
   "metadata": {},
   "outputs": [],
   "source": [
    "import math\n",
    "\n",
    "def print_factors(*numbers):\n",
    "    for x in numbers:\n",
    "        if x < 1:\n",
    "            print(\"No factors for numbers less than 1.\")\n",
    "            continue\n",
    "\n",
    "        lower_factors = []  # To store factors less than or equal to the square root\n",
    "        upper_factors = []  # To store factors greater than the square root\n",
    "\n",
    "        # Iterate up to the square root of n\n",
    "        for i in range(1, int(math.sqrt(x)) + 1):\n",
    "            if x % i == 0:\n",
    "                lower_factors.append(i)\n",
    "                if i != x // i:\n",
    "                    upper_factors.append(x // i)\n",
    "\n",
    "        # Combine the lists: lower factors and reversed upper factors\n",
    "        factors = lower_factors + upper_factors[::-1]\n",
    "\n",
    "        print(f\"Factors of {x}: {factors}\")\n",
    "\n",
    "# Example usage\n",
    "print_factors(18,39,63,126,792)  # This will print the factors of 121, 144, and 156\n",
    "\n"
   ]
  },
  {
   "cell_type": "code",
   "execution_count": null,
   "id": "fe592ad0",
   "metadata": {},
   "outputs": [],
   "source": [
    "import time\n",
    "\n",
    "start_time = time.time()\n",
    "print_factors(121,144,156)  # Call your function with some input\n",
    "end_time = time.time()\n",
    "\n",
    "print(f\"Execution time: {end_time - start_time} seconds\")\n"
   ]
  },
  {
   "cell_type": "markdown",
   "id": "c1c0f303",
   "metadata": {},
   "source": [
    "***Unit3-4-5 Paper and Pair Codings Examples***"
   ]
  },
  {
   "cell_type": "code",
   "execution_count": null,
   "id": "117c1bd4",
   "metadata": {},
   "outputs": [],
   "source": [
    "a =\"1\"+\"0\"+\"0\"+\"0\"\n",
    "print(a)\n",
    "print(type(a))\n",
    "a = int(a)\n",
    "print(a)\n",
    "print(type(a))"
   ]
  },
  {
   "cell_type": "code",
   "execution_count": null,
   "id": "6e127dc0",
   "metadata": {},
   "outputs": [],
   "source": [
    "#factorial function\n",
    "\n",
    "def fact(x):\n",
    "   a = 1 #initialize a\n",
    "   for i in range(1,x+1):\n",
    "        a = a * i\n",
    "   print(x,\"! = \",a)\n",
    "   return a \n",
    "\n",
    "fact(5)\n",
    "fact(-5)"
   ]
  },
  {
   "cell_type": "code",
   "execution_count": null,
   "id": "1676416f",
   "metadata": {},
   "outputs": [],
   "source": [
    "def fact(x):\n",
    "    if not isinstance(x, int) or x < 0:    #if parameter of function is noninteger or negative \n",
    "        print(\"Input must be a non-negative integer\")\n",
    "        return None\n",
    "\n",
    "    a = 1\n",
    "    for i in range(1, x + 1):\n",
    "        a *= i\n",
    "    print(x, \"! =\", a)\n",
    "    return a\n"
   ]
  },
  {
   "cell_type": "code",
   "execution_count": null,
   "id": "9ac4c9ee",
   "metadata": {},
   "outputs": [],
   "source": [
    "fact(-5)"
   ]
  },
  {
   "cell_type": "code",
   "execution_count": null,
   "id": "77968e14",
   "metadata": {},
   "outputs": [],
   "source": [
    "x = input (\"give the width of rectangle\")\n",
    "y = input (\"give the height of rectangle\")\n",
    "if not isinstance(x,y, float) or x,y < 0:    #if parameter of function is non float or negative \n",
    "        print(\"Input must be a non-negative integer\")\n",
    "        return None"
   ]
  },
  {
   "cell_type": "code",
   "execution_count": null,
   "id": "b4f11010",
   "metadata": {},
   "outputs": [],
   "source": [
    "x = input(\"input the width of the rectangle: \")\n",
    "y = input(\"input the height of the rectangle: \")\n",
    "\n",
    "try:\n",
    "    x = float(x)\n",
    "    y = float(y)\n",
    "    if x < 0 or y < 0:\n",
    "        \n",
    "        print(\"Inputs must be non-negative numbers.\")\n",
    "    else:\n",
    "       print(\"area of rectangle: \",x*y )\n",
    "except ValueError:\n",
    "    print(\"Inputs must be numbers.\")\n"
   ]
  },
  {
   "cell_type": "code",
   "execution_count": null,
   "id": "14c6870f",
   "metadata": {},
   "outputs": [],
   "source": [
    "import math \n",
    "a = float(input(\"enter the bottom of the first line: \"))\n",
    "b = float(input(\"enter the height of the second line: \"))\n",
    "\n",
    "c = math.sqrt(a**2 + b**2)\n",
    "print(\"the length of hypotenuse is the: \",c )\n"
   ]
  },
  {
   "cell_type": "code",
   "execution_count": null,
   "id": "53f9ae29",
   "metadata": {},
   "outputs": [],
   "source": [
    "import math \n",
    "r = float(input(\"enter the raidus of circle\"))\n",
    "area = math.pi*r**2\n",
    "print(\"area of circle = \",area)\n",
    "\n",
    "circumference = 2*math.pi*r\n",
    "print(\"circumference = \",circumference)"
   ]
  },
  {
   "cell_type": "code",
   "execution_count": null,
   "id": "5bb781e8",
   "metadata": {},
   "outputs": [],
   "source": [
    "print(\"a  n   a**n\")\n",
    "for i in range(2,7):  \n",
    "    \n",
    "    print(str(i) + \"**2 =\",i**2)"
   ]
  },
  {
   "cell_type": "code",
   "execution_count": null,
   "id": "d2f48c91",
   "metadata": {},
   "outputs": [],
   "source": [
    "a = int(input(\"enter an integer \"))\n",
    "print(\"is the integer odd?::\",a % 2 != 0)"
   ]
  },
  {
   "cell_type": "code",
   "execution_count": null,
   "id": "1728fa4a",
   "metadata": {},
   "outputs": [],
   "source": [
    "a = int(input(\"enter an integer \"))\n",
    "print(\"is the input an even integer between 0 or 100 ::\",a % 2 == 0 and a <= 100 and a >= 0)"
   ]
  },
  {
   "cell_type": "code",
   "execution_count": null,
   "id": "887b943c",
   "metadata": {},
   "outputs": [],
   "source": [
    "a = int(input(\"enter an integer \"))\n",
    "print(\"is hundredth digit of the integer 3 ?:\",a//100 == 3)"
   ]
  },
  {
   "cell_type": "code",
   "execution_count": null,
   "id": "9a9b56f6",
   "metadata": {},
   "outputs": [],
   "source": [
    "a = int(input(\"enter an integer \"))\n",
    "print(\"is the number a multiple of 5? :\",a % 5 == 0)"
   ]
  },
  {
   "cell_type": "markdown",
   "id": "c06c0a36",
   "metadata": {},
   "source": [
    "***Unit 6-7-8-9 Paper and Pair Codings Examples"
   ]
  },
  {
   "cell_type": "code",
   "execution_count": null,
   "id": "70bd1a26",
   "metadata": {},
   "outputs": [],
   "source": [
    "def func(x):\n",
    "    pass\n",
    "func(5)"
   ]
  },
  {
   "cell_type": "code",
   "execution_count": null,
   "id": "8a493568",
   "metadata": {},
   "outputs": [],
   "source": [
    "game_score = int(input(\"enter the game score: \"))\n",
    "\n",
    "if game_score >= 1500:\n",
    "    print(\"you are a master\")\n",
    "else:\n",
    "    print(\"you are nothing!\")"
   ]
  },
  {
   "cell_type": "code",
   "execution_count": null,
   "id": "932e42ce",
   "metadata": {},
   "outputs": [],
   "source": [
    "x = int(input(\"enter an integer between -100 and 100\"))\n",
    "\n",
    "if x>0:\n",
    "    print(\"x is a natural number!\")\n",
    "else:\n",
    "    print(\"x = \",x)"
   ]
  },
  {
   "cell_type": "code",
   "execution_count": 8,
   "id": "5f86f649",
   "metadata": {},
   "outputs": [
    {
     "name": "stdout",
     "output_type": "stream",
     "text": [
      "enter three number separated by,:10,20,30\n",
      "10 20 30\n"
     ]
    }
   ],
   "source": [
    "num1, num2, num3 = input(\"enter three number separated by,:\").split(\",\")\n",
    "num1, num2, num3 = int(num1), int(num2), int(num3)\n",
    "print(num1, num2, num3)"
   ]
  },
  {
   "cell_type": "code",
   "execution_count": 11,
   "id": "8d5ae45c",
   "metadata": {},
   "outputs": [
    {
     "name": "stdout",
     "output_type": "stream",
     "text": [
      "enter the age: 25\n",
      "Adult\n"
     ]
    }
   ],
   "source": [
    "age = int(input(\"enter the age: \"))\n",
    "if age  > 20:\n",
    "    print(\"Adult\")\n",
    "elif age >= 10:\n",
    "    print(\"Young\")\n",
    "else:\n",
    "    print(\"Kid\")"
   ]
  },
  {
   "cell_type": "code",
   "execution_count": 3,
   "id": "0c042347",
   "metadata": {},
   "outputs": [
    {
     "name": "stdout",
     "output_type": "stream",
     "text": [
      "enter a letter: k\n",
      "k is a consonant\n"
     ]
    }
   ],
   "source": [
    "vowels = \"aeiou\"\n",
    "letter = input(\"enter a letter: \")\n",
    "\n",
    "if letter in vowels:\n",
    "    print(letter,\"is a vowel\")\n",
    "else:\n",
    "    print(letter,\"is a consonant\")"
   ]
  },
  {
   "cell_type": "code",
   "execution_count": 12,
   "id": "4f38cd36",
   "metadata": {},
   "outputs": [
    {
     "name": "stdout",
     "output_type": "stream",
     "text": [
      "enter the number and separate them by ,  30,7\n",
      "30 is not a multiple of 7\n"
     ]
    }
   ],
   "source": [
    "a,b = input(\"enter the number and separate them by ,  \").split(\",\")\n",
    "a,b = int(a), int(b)\n",
    "\n",
    "if a % b == 0:\n",
    "    print(a,\"is a multiple of\",b)\n",
    "else:\n",
    "    print(a,\"is not a multiple of\",b)\n",
    "    "
   ]
  },
  {
   "cell_type": "code",
   "execution_count": 31,
   "id": "b03a112b",
   "metadata": {},
   "outputs": [
    {
     "name": "stdout",
     "output_type": "stream",
     "text": [
      "1) Addition  2) Subtraction  3) Multiplication  4) Division \n",
      "Enter the desired number of operation: 1\n",
      "Enter two numbers for operation and separate them by , :50,10\n",
      "50 + 10 =  60\n"
     ]
    }
   ],
   "source": [
    "print(\"1) Addition  2) Subtraction  3) Multiplication  4) Division \")\n",
    "op_numb = int(input(\"Enter the desired number of operation: \"))\n",
    "a,b = input(\"Enter two numbers for operation and separate them by , :\").split(\",\")\n",
    "a,b = int(a), int(b)\n",
    "\n",
    "if op_numb == 1:\n",
    "    print(f\"{a} + {b} = \",a+b)\n",
    "elif op_numb == 2:\n",
    "    print(f\"{a} - {b} ={a-b}\")\n",
    "elif op_numb == 3:\n",
    "    print(f\"{a} * {b} ={a*b}\")\n",
    "elif op_numb == 4:\n",
    "    print(f\"{a} / {b} ={a/b}\")\n"
   ]
  },
  {
   "cell_type": "code",
   "execution_count": 40,
   "id": "5e3dbf57",
   "metadata": {},
   "outputs": [
    {
     "name": "stdout",
     "output_type": "stream",
     "text": [
      "Enter x,y coordinates and separate them , :-4,-5\n",
      "In the third quadrant\n"
     ]
    }
   ],
   "source": [
    "x, y  = input(\"Enter x,y coordinates and separate them , :\").split(\",\") #take two valueand assign them x and  y \n",
    "x, y = int(x), int(y)  #convert hem integer\n",
    "\n",
    "if x>0 and y>0 :   #check  for x and y values \n",
    "    print(\"In the first quadrant\")\n",
    "elif x<0 and y>0 :\n",
    "    print(\"In the second quadrant\")\n",
    "elif x<0 and y<0 :\n",
    "    print(\"In the third quadrant\")\n",
    "else:\n",
    "    print(\"In the fourth quadrant\")"
   ]
  },
  {
   "cell_type": "code",
   "execution_count": 49,
   "id": "487eb50e",
   "metadata": {},
   "outputs": [
    {
     "name": "stdout",
     "output_type": "stream",
     "text": [
      "Welcome to Yummy Restaurant,here is the menu.\n",
      " -Burger(enter b)\n",
      " -Chicken(enter c)\n",
      " -Pizza(enter p)\n",
      "Please choose one of the menu(b,c,p),but just one please!\n",
      "10\n",
      "You choose pizzzzza!!!\n"
     ]
    }
   ],
   "source": [
    "print(\"Welcome to Yummy Restaurant,here is the menu.\")\n",
    "print(\" -Burger(enter b)\\n -Chicken(enter c)\\n -Pizza(enter p)\")\n",
    "\n",
    "choosen_menu = input(\"Please choose one of the menu(b,c,p),but just one please!\\n\")\n",
    "\n",
    "if choosen_menu == \"c\":\n",
    "    print(\"You chooes chiccccckkkenn!!!\")\n",
    "elif choosen_menu == \"b\":\n",
    "    print(\"You chooes buuurgerrrrr!!!\")\n",
    "else:\n",
    "    print(\"You choose pizzzzza!!!\")"
   ]
  },
  {
   "cell_type": "code",
   "execution_count": 50,
   "id": "2367b732",
   "metadata": {},
   "outputs": [
    {
     "name": "stdout",
     "output_type": "stream",
     "text": [
      "['H', 'e', 'l', 'l', 'o']\n"
     ]
    }
   ],
   "source": [
    "st = \"Hello\"\n",
    "print(list(st))"
   ]
  },
  {
   "cell_type": "code",
   "execution_count": 53,
   "id": "c6100a61",
   "metadata": {},
   "outputs": [
    {
     "name": "stdout",
     "output_type": "stream",
     "text": [
      "H   e   l   l   o   "
     ]
    }
   ],
   "source": [
    "st = \"Hello\"\n",
    "\n",
    "for ch in st :\n",
    "    print(ch,end = \"   \")"
   ]
  },
  {
   "cell_type": "code",
   "execution_count": 54,
   "id": "61de55c5",
   "metadata": {},
   "outputs": [
    {
     "name": "stdout",
     "output_type": "stream",
     "text": [
      "V\n",
      "J-Hope\n",
      "RM\n",
      "Jungkook\n",
      "Jin\n",
      "Jimin\n",
      "Suga\n"
     ]
    }
   ],
   "source": [
    "bts = [\"V\",\"J-Hope\",\"RM\",\"Jungkook\",\"Jin\",\"Jimin\",\"Suga\"]\n",
    "\n",
    "for i in bts:\n",
    "    print(i)\n",
    "    "
   ]
  },
  {
   "cell_type": "code",
   "execution_count": 56,
   "id": "875ad8f5",
   "metadata": {},
   "outputs": [
    {
     "name": "stdout",
     "output_type": "stream",
     "text": [
      "sum of integers from 1 to 100 is: 5050\n"
     ]
    }
   ],
   "source": [
    "s = 0 # define a summ variable\n",
    "for i in range(101):\n",
    "    s += i\n",
    "print(f\"sum of integers from 1 to 100 is: {s}\")"
   ]
  },
  {
   "cell_type": "code",
   "execution_count": 60,
   "id": "a6ff16e0",
   "metadata": {},
   "outputs": [
    {
     "name": "stdout",
     "output_type": "stream",
     "text": [
      "sum of even integers from 0 to 100 is: 2550\n"
     ]
    }
   ],
   "source": [
    "s = 0 # define a summ variable\n",
    "for i in range(2,102,2):\n",
    "    s += i\n",
    "print(f\"sum of even integers from 0 to 100 is: {s}\")"
   ]
  },
  {
   "cell_type": "code",
   "execution_count": 61,
   "id": "341cb717",
   "metadata": {},
   "outputs": [
    {
     "name": "stdout",
     "output_type": "stream",
     "text": [
      "sum of odd integers from 0 to 100 is: 2500\n"
     ]
    }
   ],
   "source": [
    "s = 0 # define a summ variable\n",
    "for i in range(1,100,2):\n",
    "    s += i\n",
    "print(f\"sum of odd integers from 0 to 100 is: {s}\")"
   ]
  },
  {
   "cell_type": "code",
   "execution_count": 34,
   "id": "1157907a",
   "metadata": {},
   "outputs": [
    {
     "name": "stdout",
     "output_type": "stream",
     "text": [
      "\n",
      "1     2     3     4     5     \n",
      "10     9     8     7     6     \n",
      "11     12     13     14     15     \n",
      "20     19     18     17     16     \n",
      "21     22     23     24     25     "
     ]
    }
   ],
   "source": [
    "n = 5 #int(input(\"enter the number n: \"))\n",
    "\n",
    "for i in range(1,6):\n",
    "    print()\n",
    "    for j in range(1,6):\n",
    "        if i % 2 == 1:\n",
    "            print((i-1)*5+j,end = \"     \")\n",
    "        else:\n",
    "            print(i*5-j+1,end = \"     \")\n",
    "        \n",
    "       \n",
    "    \n",
    "    \n",
    "   "
   ]
  },
  {
   "cell_type": "code",
   "execution_count": 44,
   "id": "fc7eab21",
   "metadata": {},
   "outputs": [
    {
     "name": "stdout",
     "output_type": "stream",
     "text": [
      "Enter the number of row:5\n",
      "\n",
      "   1   2   3   4   5\n",
      "  10   9   8   7   6\n",
      "  11  12  13  14  15\n",
      "  20  19  18  17  16\n",
      "  21  22  23  24  25"
     ]
    }
   ],
   "source": [
    "n = int(input(\"Enter the number of row:\"))\n",
    "\n",
    "\n",
    "for i in range(1, n + 1):\n",
    "    print() \n",
    "    for j in range(1, n + 1):\n",
    "        if i % 2 == 1:\n",
    "            # For odd.th rows,numbers will increase to the right\n",
    "            print(\"{:>4}\".format((i - 1) * n + j), end=\"\")  #allocate at least 4 character for any number \n",
    "        else:\n",
    "            # For even.th rows,numbers will increase to right \n",
    "            print(\"{:>4}\".format(i * n - j + 1), end=\"\")\n",
    "\n"
   ]
  },
  {
   "cell_type": "code",
   "execution_count": 49,
   "id": "33229cba",
   "metadata": {},
   "outputs": [
    {
     "name": "stdout",
     "output_type": "stream",
     "text": [
      "2*1 = 2\n",
      "2*2 = 4\n",
      "2*3 = 6\n",
      "2*4 = 8\n",
      "2*5 = 10\n",
      "2*6 = 12\n",
      "2*7 = 14\n",
      "2*8 = 16\n",
      "2*9 = 18\n"
     ]
    }
   ],
   "source": [
    "i = 1\n",
    "while i<10:\n",
    "    print(f\"2*{i} = {2*i}\")\n",
    "    i += 1"
   ]
  },
  {
   "cell_type": "code",
   "execution_count": 71,
   "id": "3ebc9e74",
   "metadata": {},
   "outputs": [
    {
     "name": "stdout",
     "output_type": "stream",
     "text": [
      "1*1 = 1\n",
      "1*2 = 2\n",
      "1*3 = 3\n",
      "1*4 = 4\n",
      "1*5 = 5\n",
      "1*6 = 6\n",
      "1*7 = 7\n",
      "1*8 = 8\n",
      "1*9 = 9\n",
      "2*1 = 2\n",
      "2*2 = 4\n",
      "2*3 = 6\n",
      "2*4 = 8\n",
      "2*5 = 10\n",
      "2*6 = 12\n",
      "2*7 = 14\n",
      "2*8 = 16\n",
      "2*9 = 18\n",
      "3*1 = 3\n",
      "3*2 = 6\n",
      "3*3 = 9\n",
      "3*4 = 12\n",
      "3*5 = 15\n",
      "3*6 = 18\n",
      "3*7 = 21\n",
      "3*8 = 24\n",
      "3*9 = 27\n",
      "4*1 = 4\n",
      "4*2 = 8\n",
      "4*3 = 12\n",
      "4*4 = 16\n",
      "4*5 = 20\n",
      "4*6 = 24\n",
      "4*7 = 28\n",
      "4*8 = 32\n",
      "4*9 = 36\n",
      "5*1 = 5\n",
      "5*2 = 10\n",
      "5*3 = 15\n",
      "5*4 = 20\n",
      "5*5 = 25\n",
      "5*6 = 30\n",
      "5*7 = 35\n",
      "5*8 = 40\n",
      "5*9 = 45\n",
      "6*1 = 6\n",
      "6*2 = 12\n",
      "6*3 = 18\n",
      "6*4 = 24\n",
      "6*5 = 30\n",
      "6*6 = 36\n",
      "6*7 = 42\n",
      "6*8 = 48\n",
      "6*9 = 54\n",
      "7*1 = 7\n",
      "7*2 = 14\n",
      "7*3 = 21\n",
      "7*4 = 28\n",
      "7*5 = 35\n",
      "7*6 = 42\n",
      "7*7 = 49\n",
      "7*8 = 56\n",
      "7*9 = 63\n",
      "8*1 = 8\n",
      "8*2 = 16\n",
      "8*3 = 24\n",
      "8*4 = 32\n",
      "8*5 = 40\n",
      "8*6 = 48\n",
      "8*7 = 56\n",
      "8*8 = 64\n",
      "8*9 = 72\n",
      "9*1 = 9\n",
      "9*2 = 18\n",
      "9*3 = 27\n",
      "9*4 = 36\n",
      "9*5 = 45\n",
      "9*6 = 54\n",
      "9*7 = 63\n",
      "9*8 = 72\n",
      "9*9 = 81\n"
     ]
    }
   ],
   "source": [
    "i = 1\n",
    "\n",
    "\n",
    "while i < 10:\n",
    "    j = 1  #it assigned j= 1 when the upper while loop  ends  \n",
    "    while j < 10:\n",
    "        print(f\"{i}*{j} = {i*j}\")\n",
    "        j += 1\n",
    "    i += 1"
   ]
  },
  {
   "cell_type": "markdown",
   "id": "dbebc57a",
   "metadata": {},
   "source": [
    "### UNİT 9 "
   ]
  },
  {
   "cell_type": "code",
   "execution_count": 16,
   "id": "d8b08a7a",
   "metadata": {},
   "outputs": [
    {
     "name": "stdout",
     "output_type": "stream",
     "text": [
      "Enter the you want to check: 153\n",
      "153 is not a palindrom number \n"
     ]
    }
   ],
   "source": [
    "numb = input(\"Enter the you want to check: \")\n",
    "l = len(numb) #length of number\n",
    "t =True\n",
    "for i in range(l):\n",
    "    if numb[i] != numb[l-1-i]:\n",
    "        t= False\n",
    "if t:\n",
    "    print(f\"{numb} is a palindrom number \") #if t doesnt change means that the number is palindrom \n",
    "else:\n",
    "    print(f\"{numb} is not a palindrom number \")\n",
    "\n",
    "    \n",
    "        "
   ]
  },
  {
   "cell_type": "code",
   "execution_count": 41,
   "id": "8c5b0362",
   "metadata": {},
   "outputs": [
    {
     "name": "stdout",
     "output_type": "stream",
     "text": [
      "enter the number you guess! 50\n",
      "Congratulations you found in 1 total try \n"
     ]
    }
   ],
   "source": [
    "import random as rand \n",
    "numb = rand.randint(1,100)\n",
    "t_t = 0\n",
    "\n",
    "while True:\n",
    "    takenn = int(input(\"enter the number you guess! \"))\n",
    "    if takenn>numb:\n",
    "         t_t += 1\n",
    "         print(\"Higher\")\n",
    "            \n",
    "    elif takenn<numb:\n",
    "         t_t += 1\n",
    "         print(\"Lower!\")\n",
    "    else:\n",
    "         t_t += 1\n",
    "         print(f\"Congratulations you found in {t_t} total try \")\n",
    "         break\n"
   ]
  },
  {
   "cell_type": "markdown",
   "id": "44874412",
   "metadata": {},
   "source": [
    "***CHAPTER2***"
   ]
  },
  {
   "cell_type": "code",
   "execution_count": 2,
   "id": "68e10d8f",
   "metadata": {},
   "outputs": [
    {
     "name": "stdout",
     "output_type": "stream",
     "text": [
      "[20, 'david']\n",
      "[0, 180, 1, 20, 'david']\n",
      "[20, 'david']\n"
     ]
    }
   ],
   "source": [
    "person1 = [\"david\",20,1,180,0]\n",
    "person2 = [\"yasin\",24,1,190]\n",
    "\n",
    "print(person1[1::-1])\n",
    "print(person1[::-1])\n",
    "print(person1[1::-1])\n"
   ]
  },
  {
   "cell_type": "code",
   "execution_count": 3,
   "id": "36f4ccdb",
   "metadata": {},
   "outputs": [
    {
     "name": "stdout",
     "output_type": "stream",
     "text": [
      "1**st element of prime list: 2 \n"
     ]
    }
   ],
   "source": [
    "import math \n",
    "\n",
    "def iss_prime(x):  # define a function that controls an integer is prime or not \n",
    "    prime_value = True  # initially we accept all the integer as prime for a moment\n",
    "    for j in range(2,math.ceil(math.sqrt(x))+1):\n",
    "        if x != 2 and x % j == 0: # if the condition satisfied we change our first acceptance\n",
    "            prime_value = False\n",
    "            \n",
    "    return prime_value\n",
    "\n",
    "        \n",
    "    \n",
    "a = []  # define an empty list to add primes\n",
    "for i in range(2,10):\n",
    "    if iss_prime(i):\n",
    "        a.append(i)\n",
    "print(f\"1**st element of prime list: {a[0]} \" )\n",
    "\n",
    "        "
   ]
  },
  {
   "cell_type": "code",
   "execution_count": 4,
   "id": "e8cc8159",
   "metadata": {},
   "outputs": [
    {
     "name": "stdout",
     "output_type": "stream",
     "text": [
      "Prime numbers :  [2, 3, 5, 7]\n",
      "Prime numbers after addition :  [2, 3, 5, 7, 11]\n"
     ]
    }
   ],
   "source": [
    "prime_number = [2,3,5,7]\n",
    "print(\"Prime numbers : \",prime_number)\n",
    "prime_number.append(11)\n",
    "print(\"Prime numbers after addition : \",prime_number)"
   ]
  },
  {
   "cell_type": "code",
   "execution_count": 5,
   "id": "feeb2915",
   "metadata": {},
   "outputs": [
    {
     "name": "stdout",
     "output_type": "stream",
     "text": [
      "3 * 2 = 6\n",
      "3 * 3 = 9\n",
      "3 * 4 = 12\n",
      "3 * 5 = 15\n",
      "3 * 6 = 18\n",
      "5 * 2 = 10\n",
      "5 * 3 = 15\n",
      "5 * 4 = 20\n",
      "5 * 5 = 25\n",
      "5 * 6 = 30\n",
      "7 * 2 = 14\n",
      "7 * 3 = 21\n",
      "7 * 4 = 28\n",
      "7 * 5 = 35\n",
      "7 * 6 = 42\n"
     ]
    }
   ],
   "source": [
    "list_1 = [3,5,7]\n",
    "list_2 = [2,3,4,5,6]\n",
    "\n",
    "for i in list_1:\n",
    "    for j in list_2:\n",
    "        print(f\"{i} * {j} = {i*j}\")"
   ]
  },
  {
   "cell_type": "code",
   "execution_count": 6,
   "id": "48058642",
   "metadata": {},
   "outputs": [
    {
     "name": "stdout",
     "output_type": "stream",
     "text": [
      "shortes string : abc\n"
     ]
    }
   ],
   "source": [
    "import math\n",
    "s_list = [\"abc\",\"bcd\",\"bcdefg\",\"abba\",\"cddc\",\"opo\"]\n",
    "\n",
    "shortest = math.inf   #lets assign the worst case scenario to shortets which is shortest is the biggest:))\n",
    "\n",
    "for el in s_list:\n",
    "    if shortest > len(el):\n",
    "        shortest = len(el)\n",
    "    \n",
    "\n",
    "for j in s_list:\n",
    "    if len(j) == shortest:\n",
    "        print(f\"shortes string : {j}\")\n",
    "        break \n",
    "    \n",
    "    \n",
    "    \n",
    "\n",
    "\n"
   ]
  },
  {
   "cell_type": "code",
   "execution_count": 8,
   "id": "8462f61d",
   "metadata": {},
   "outputs": [
    {
     "name": "stdout",
     "output_type": "stream",
     "text": [
      "longest string : bcdefg\n"
     ]
    }
   ],
   "source": [
    "import math\n",
    "s_list = [\"abc\",\"bcd\",\"bcdefg\",\"abba\",\"cddc\",\"opo\"]\n",
    "\n",
    "longest = 0  #lets assign the best case scenario to longest  which is longest is the smallest[:)))::2)]\n",
    "\n",
    "for el in s_list:\n",
    "    if longest < len(el):\n",
    "        longest = len(el)\n",
    "    \n",
    "\n",
    "for j in s_list:\n",
    "    if len(j) == longest:\n",
    "        print(f\"longest string : {j}\")\n",
    "        break "
   ]
  },
  {
   "cell_type": "code",
   "execution_count": 9,
   "id": "1c75a8de",
   "metadata": {},
   "outputs": [
    {
     "name": "stdout",
     "output_type": "stream",
     "text": [
      "Shortest strings: abc, bcd, opo\n"
     ]
    }
   ],
   "source": [
    "import math\n",
    "s_list = [\"abc\",\"bcd\",\"bcdefg\",\"abba\",\"cddc\",\"opo\"]\n",
    "\n",
    "shortest = math.inf   #lets assign the worst case scenario to shortets which is shortest is the biggest:))\n",
    "\n",
    "for el in s_list:\n",
    "    if shortest > len(el):\n",
    "        shortest = len(el)\n",
    "    \n",
    "shortest_els = []\n",
    "\n",
    "for j in s_list:\n",
    "    if len(j) == shortest:\n",
    "        shortest_els.append(j)\n",
    "        \n",
    "print(f\"Shortest strings: {', '.join(shortest_els)}\")\n",
    "        \n",
    "\n",
    "  \n",
    "        "
   ]
  },
  {
   "cell_type": "code",
   "execution_count": 10,
   "id": "f45877f6",
   "metadata": {},
   "outputs": [
    {
     "name": "stdout",
     "output_type": "stream",
     "text": [
      "diyor  idim\n"
     ]
    }
   ],
   "source": [
    "print(\"di\\\n",
    "yor\\\n",
    "  idim\")"
   ]
  },
  {
   "cell_type": "code",
   "execution_count": 11,
   "id": "8892ce6b",
   "metadata": {},
   "outputs": [
    {
     "name": "stdout",
     "output_type": "stream",
     "text": [
      "key:Korea\n",
      "value:Seoul\n",
      "key:China\n",
      "value:Beijing\n",
      "key:USA\n",
      "value:Washington DC\n"
     ]
    }
   ],
   "source": [
    "capital_dic ={\"Korea\":\"Seoul\", \"China\":\"Beijing\",\"USA\":\"Washington DC\"}\n",
    "capital_dic[\"Korea\"]\n",
    "\n",
    "\n",
    "\n",
    "for key in capital_dic:\n",
    "    print(\"key:{}\\nvalue:{}\".format(key,capital_dic[key]))\n",
    "\n",
    "\n",
    "\n",
    "    "
   ]
  },
  {
   "cell_type": "code",
   "execution_count": 12,
   "id": "6da00e75",
   "metadata": {},
   "outputs": [
    {
     "name": "stdout",
     "output_type": "stream",
     "text": [
      "The of apple is 500 KRW\n",
      "The of banana is 4000 KRW\n",
      "The of grape is 5300 KRW\n",
      "The of melon is 6500 KRW\n"
     ]
    }
   ],
   "source": [
    "fruits_dic = {\"apple\":500,\"banana\":4000, \"grape\":5300, \"melon\":6500}\n",
    "# type(fruits)\n",
    "\n",
    "for key in fruits_dic:\n",
    "    print(\"The of {} is {} KRW\".format(key,fruits_dic[key]))\n",
    "\n"
   ]
  },
  {
   "cell_type": "code",
   "execution_count": 13,
   "id": "923e1802",
   "metadata": {},
   "outputs": [
    {
     "name": "stdout",
     "output_type": "stream",
     "text": [
      "         8                   64    512\n",
      "         9                   81    729\n",
      "        10                  100    1000\n",
      "        11                  121    1331\n",
      "        12                  144    1728\n",
      "        13                  169    2197\n",
      "        14                  196    2744\n",
      "        15                  225    3375\n",
      "        16                  256    4096\n",
      "        17                  289    4913\n",
      "        18                  324    5832\n",
      "        19                  361    6859\n",
      "        20                  400    8000\n",
      "        21                  441    9261\n",
      "        22                  484    10648\n",
      "        23                  529    12167\n",
      "        24                  576    13824\n",
      "        25                  625    15625\n",
      "        26                  676    17576\n",
      "        27                  729    19683\n",
      "        28                  784    21952\n",
      "        29                  841    24389\n",
      "        30                  900    27000\n",
      "        31                  961    29791\n",
      "        32                 1024    32768\n",
      "        33                 1089    35937\n",
      "        34                 1156    39304\n",
      "        35                 1225    42875\n",
      "        36                 1296    46656\n",
      "        37                 1369    50653\n",
      "        38                 1444    54872\n",
      "        39                 1521    59319\n",
      "        40                 1600    64000\n",
      "        41                 1681    68921\n",
      "        42                 1764    74088\n",
      "        43                 1849    79507\n",
      "        44                 1936    85184\n",
      "        45                 2025    91125\n",
      "        46                 2116    97336\n",
      "        47                 2209    103823\n",
      "        48                 2304    110592\n",
      "        49                 2401    117649\n"
     ]
    }
   ],
   "source": [
    "for i in range(8,50):\n",
    "    print(\"{:10d} {:20d}    {:1d}\".format(i,i**2,i**3))"
   ]
  },
  {
   "cell_type": "code",
   "execution_count": 14,
   "id": "c1ca63ce",
   "metadata": {},
   "outputs": [
    {
     "name": "stdout",
     "output_type": "stream",
     "text": [
      "dict_keys(['apple', 'banana', 'grape', 'melon'])\n",
      "apple is in fruit_dic\n",
      "mango is not in fruit_dic\n"
     ]
    }
   ],
   "source": [
    "fruits_dic = {\"apple\":500,\"banana\":4000, \"grape\":5300, \"melon\":6500}\n",
    "# type(fruits)\n",
    "\n",
    "print(fruits_dic.keys())\n",
    "\n",
    "def is_inn(x):\n",
    "          if x in fruits_dic:\n",
    "                                     print(\"{} is in fruit_dic\".format(\"apple\"))\n",
    "          else:\n",
    "            print(\"{} is not in fruit_dic\".format(x))\n",
    "            \n",
    "is_inn(\"apple\")\n",
    "is_inn(\"mango\")\n"
   ]
  },
  {
   "cell_type": "code",
   "execution_count": 15,
   "id": "b8402e81",
   "metadata": {},
   "outputs": [
    {
     "name": "stdout",
     "output_type": "stream",
     "text": [
      "1**st element of prime list: 2 \n"
     ]
    }
   ],
   "source": [
    "import math \n",
    "\n",
    "def iss_prime(x):  # define a function that controls an integer is prime or not \n",
    "    prime_value = True  # initially we accept all the integer as prime for a moment\n",
    "    for j in range(2,math.ceil(math.sqrt(x))+1):\n",
    "        if x != 2 and x % j == 0: # if the condition satisfied we change our first acceptance\n",
    "            prime_value = False\n",
    "            \n",
    "    return prime_value\n",
    "\n",
    "        \n",
    "    \n",
    "a = []  # define an empty list to add primes\n",
    "for i in range(2,10):\n",
    "    if iss_prime(i):\n",
    "        a.append(i)\n",
    "print(f\"1**st element of prime list: {a[0]} \" )"
   ]
  },
  {
   "cell_type": "code",
   "execution_count": 16,
   "id": "3c3069da",
   "metadata": {},
   "outputs": [
    {
     "name": "stdout",
     "output_type": "stream",
     "text": [
      "1**st element of prime list: 2 \n"
     ]
    }
   ],
   "source": [
    "import math \n",
    "\n",
    "def iss_prime(x):  # define a function that controls an integer is prime or not \n",
    "    prime_value = True  # initially we accept all the integer as prime for a moment\n",
    "    for j in range(2,math.ceil(math.sqrt(x))+1):\n",
    "        if x != 2 and x % j == 0: # if the condition satisfied we change our first acceptance\n",
    "            prime_value = False\n",
    "            \n",
    "    return prime_value\n",
    "\n",
    "        \n",
    "    \n",
    "a = []  # define an empty list to add primes\n",
    "for i in range(2,10):\n",
    "    if iss_prime(i):\n",
    "        a.append(i)\n",
    "print(f\"1**st element of prime list: {a[0]} \" )"
   ]
  },
  {
   "cell_type": "code",
   "execution_count": 17,
   "id": "ce8a115b",
   "metadata": {},
   "outputs": [
    {
     "name": "stdout",
     "output_type": "stream",
     "text": [
      "True\n",
      "False\n",
      "('a', 'b', 'c', 'd', 'e')\n",
      "[('a', 'b', 'c', 'd', 'e')]\n",
      "[('a', 'b', 'c', 'a', 'b', 'c')]\n",
      "<class 'list'>\n"
     ]
    }
   ],
   "source": [
    "t1 = \"a\",\"b\",\"c\"\n",
    "t2 = (\"a\",\"b\",\"c\")\n",
    "t3 = (\"d\",\"e\")\n",
    "\n",
    "print(t1 == t2)\n",
    "print(t1>t3)\n",
    "print(t1+t3)\n",
    "print([t1+t3])\n",
    "print([t1+t2])\n",
    "\n",
    "a= [t1+t2]\n",
    "print(type(a))"
   ]
  },
  {
   "cell_type": "code",
   "execution_count": 18,
   "id": "cd700176",
   "metadata": {},
   "outputs": [
    {
     "name": "stdout",
     "output_type": "stream",
     "text": [
      "In the past 10 days, 3 days had reduced sales compared to the previous day\n"
     ]
    }
   ],
   "source": [
    "daily_sales = (100, 121, 120, 130, 140, 120, 122, 123, 190, 125)\n",
    "\n",
    "times = 0\n",
    "for i in range(len(daily_sales)-1):\n",
    "    if daily_sales[i] > daily_sales[i+1]:\n",
    "        times += 1\n",
    "print(\"In the past {} days, {} days had reduced sales compared to the previous day\".format(len(daily_sales),times))"
   ]
  },
  {
   "cell_type": "code",
   "execution_count": 20,
   "id": "2bd6d752",
   "metadata": {},
   "outputs": [
    {
     "name": "stdout",
     "output_type": "stream",
     "text": [
      "Enter tuple elements separated by space: 1 2 5 4 3 1 4 7 8 9 9 3 7 3 9\n",
      "The most frequent element: 9\n"
     ]
    }
   ],
   "source": [
    "gt = tuple(input(\"Enter tuple elements separated by space: \").split(\" \"))  #tkae the tupple elements from the user\n",
    "\n",
    "gt = sorted(gt)  #sort the tupple\n",
    "\n",
    "count_gt = []  #create a list then add them how many times appears which element\n",
    "for i in gt:\n",
    "    count_gt.append(gt.count(i))  #which elements how many times appear\n",
    "\n",
    "mct = max(count_gt)  #most common times\n",
    "\n",
    "for j in range(len(gt)):\n",
    "    if count_gt[-1-j] == mct:  #look for the elemnts whose counts = most common times and the biggest one\n",
    "        break\n",
    "    \n",
    "print(\"The most frequent element: {}\".format(gt[-1-j]))\n",
    "        \n",
    "         \n"
   ]
  },
  {
   "cell_type": "code",
   "execution_count": 21,
   "id": "6b99ba76",
   "metadata": {},
   "outputs": [
    {
     "ename": "KeyboardInterrupt",
     "evalue": "Interrupted by user",
     "output_type": "error",
     "traceback": [
      "\u001b[1;31m---------------------------------------------------------------------------\u001b[0m",
      "\u001b[1;31mKeyboardInterrupt\u001b[0m                         Traceback (most recent call last)",
      "Cell \u001b[1;32mIn[21], line 3\u001b[0m\n\u001b[0;32m      1\u001b[0m \u001b[38;5;66;03m#i couldnt do that lets try later chapter2 page:208\u001b[39;00m\n\u001b[1;32m----> 3\u001b[0m gt \u001b[38;5;241m=\u001b[39m \u001b[38;5;28mtuple\u001b[39m(\u001b[38;5;28minput\u001b[39m(\u001b[38;5;124m\"\u001b[39m\u001b[38;5;124mEnter tuple elements separated by comma: \u001b[39m\u001b[38;5;124m\"\u001b[39m)\u001b[38;5;241m.\u001b[39msplit(\u001b[38;5;124m\"\u001b[39m\u001b[38;5;124m,\u001b[39m\u001b[38;5;124m\"\u001b[39m))  \u001b[38;5;66;03m#tkae the tupple elements from the user\u001b[39;00m\n\u001b[0;32m      5\u001b[0m listgt \u001b[38;5;241m=\u001b[39m \u001b[38;5;28mlist\u001b[39m(gt)\n\u001b[0;32m      6\u001b[0m a\u001b[38;5;241m=\u001b[39m()\n",
      "File \u001b[1;32mC:\\ProgramData\\anaconda3\\Lib\\site-packages\\ipykernel\\kernelbase.py:1202\u001b[0m, in \u001b[0;36mKernel.raw_input\u001b[1;34m(self, prompt)\u001b[0m\n\u001b[0;32m   1200\u001b[0m     msg \u001b[38;5;241m=\u001b[39m \u001b[38;5;124m\"\u001b[39m\u001b[38;5;124mraw_input was called, but this frontend does not support input requests.\u001b[39m\u001b[38;5;124m\"\u001b[39m\n\u001b[0;32m   1201\u001b[0m     \u001b[38;5;28;01mraise\u001b[39;00m StdinNotImplementedError(msg)\n\u001b[1;32m-> 1202\u001b[0m \u001b[38;5;28;01mreturn\u001b[39;00m \u001b[38;5;28mself\u001b[39m\u001b[38;5;241m.\u001b[39m_input_request(\n\u001b[0;32m   1203\u001b[0m     \u001b[38;5;28mstr\u001b[39m(prompt),\n\u001b[0;32m   1204\u001b[0m     \u001b[38;5;28mself\u001b[39m\u001b[38;5;241m.\u001b[39m_parent_ident[\u001b[38;5;124m\"\u001b[39m\u001b[38;5;124mshell\u001b[39m\u001b[38;5;124m\"\u001b[39m],\n\u001b[0;32m   1205\u001b[0m     \u001b[38;5;28mself\u001b[39m\u001b[38;5;241m.\u001b[39mget_parent(\u001b[38;5;124m\"\u001b[39m\u001b[38;5;124mshell\u001b[39m\u001b[38;5;124m\"\u001b[39m),\n\u001b[0;32m   1206\u001b[0m     password\u001b[38;5;241m=\u001b[39m\u001b[38;5;28;01mFalse\u001b[39;00m,\n\u001b[0;32m   1207\u001b[0m )\n",
      "File \u001b[1;32mC:\\ProgramData\\anaconda3\\Lib\\site-packages\\ipykernel\\kernelbase.py:1245\u001b[0m, in \u001b[0;36mKernel._input_request\u001b[1;34m(self, prompt, ident, parent, password)\u001b[0m\n\u001b[0;32m   1242\u001b[0m \u001b[38;5;28;01mexcept\u001b[39;00m \u001b[38;5;167;01mKeyboardInterrupt\u001b[39;00m:\n\u001b[0;32m   1243\u001b[0m     \u001b[38;5;66;03m# re-raise KeyboardInterrupt, to truncate traceback\u001b[39;00m\n\u001b[0;32m   1244\u001b[0m     msg \u001b[38;5;241m=\u001b[39m \u001b[38;5;124m\"\u001b[39m\u001b[38;5;124mInterrupted by user\u001b[39m\u001b[38;5;124m\"\u001b[39m\n\u001b[1;32m-> 1245\u001b[0m     \u001b[38;5;28;01mraise\u001b[39;00m \u001b[38;5;167;01mKeyboardInterrupt\u001b[39;00m(msg) \u001b[38;5;28;01mfrom\u001b[39;00m \u001b[38;5;28;01mNone\u001b[39;00m\n\u001b[0;32m   1246\u001b[0m \u001b[38;5;28;01mexcept\u001b[39;00m \u001b[38;5;167;01mException\u001b[39;00m:\n\u001b[0;32m   1247\u001b[0m     \u001b[38;5;28mself\u001b[39m\u001b[38;5;241m.\u001b[39mlog\u001b[38;5;241m.\u001b[39mwarning(\u001b[38;5;124m\"\u001b[39m\u001b[38;5;124mInvalid Message:\u001b[39m\u001b[38;5;124m\"\u001b[39m, exc_info\u001b[38;5;241m=\u001b[39m\u001b[38;5;28;01mTrue\u001b[39;00m)\n",
      "\u001b[1;31mKeyboardInterrupt\u001b[0m: Interrupted by user"
     ]
    }
   ],
   "source": [
    "#i couldnt do that lets try later chapter2 page:208\n",
    "\n",
    "gt = tuple(input(\"Enter tuple elements separated by comma: \").split(\",\"))  #tkae the tupple elements from the user\n",
    "\n",
    "listgt = list(gt)\n",
    "a=()\n",
    "print(f\"Given tuples: {[gt]} \")\n",
    "for i in listgt:\n",
    "    print(i)\n",
    "    if len(i) == 0 :\n",
    "        print(i)    \n",
    "\n"
   ]
  },
  {
   "cell_type": "code",
   "execution_count": 22,
   "id": "12e03f4a",
   "metadata": {},
   "outputs": [
    {
     "data": {
      "text/plain": [
       "[[0], [0, 1], [0, 1, 2], [0, 1, 2, 3], [0, 1, 2, 3, 4]]"
      ]
     },
     "execution_count": 22,
     "metadata": {},
     "output_type": "execute_result"
    }
   ],
   "source": [
    "#jagged list example\n",
    "a = []\n",
    "for i in range(5):\n",
    "    listt = []\n",
    "    for j in range(i+1):\n",
    "        listt.append(j)\n",
    "    a.append(listt)\n",
    "a"
   ]
  },
  {
   "cell_type": "code",
   "execution_count": 23,
   "id": "d67daaad",
   "metadata": {},
   "outputs": [
    {
     "name": "stdout",
     "output_type": "stream",
     "text": [
      "0 \n",
      "0 1 \n",
      "0 1 2 \n",
      "0 1 2 3 \n",
      "0 1 2 3 4 \n",
      "[[0], [0, 1], [0, 1, 2], [0, 1, 2, 3], [0, 1, 2, 3, 4]]\n"
     ]
    }
   ],
   "source": [
    "#jagged list example\n",
    "a = []\n",
    "for i in range(5):\n",
    "    listt = []\n",
    "    for j in range(i+1):\n",
    "        listt.append(j)\n",
    "        print(j,end = \" \")\n",
    "    a.append(listt)\n",
    "    print()\n",
    "print(a)"
   ]
  },
  {
   "cell_type": "code",
   "execution_count": 24,
   "id": "78bf2e1e",
   "metadata": {},
   "outputs": [
    {
     "name": "stdout",
     "output_type": "stream",
     "text": [
      "1 2 3 4 \n",
      "5 6 7 8 \n",
      "9 10 11 12 \n",
      "13 14 15 16 \n"
     ]
    }
   ],
   "source": [
    "a =  []\n",
    "\n",
    "for i in range(0,4):\n",
    "    listt = []\n",
    "    for j in range(4):\n",
    "        listt.append(j+i*4+1)\n",
    "        print(j+i*4+1,end = \" \")\n",
    "    a.append(listt)\n",
    "    print()"
   ]
  },
  {
   "cell_type": "code",
   "execution_count": 25,
   "id": "4161e568",
   "metadata": {},
   "outputs": [
    {
     "data": {
      "text/plain": [
       "30"
      ]
     },
     "execution_count": 25,
     "metadata": {},
     "output_type": "execute_result"
    }
   ],
   "source": [
    "list_array = [[10, 20], [30, 40], [50, 60]]\n",
    "list_array[1][0]"
   ]
  },
  {
   "cell_type": "code",
   "execution_count": 26,
   "id": "d28bb794",
   "metadata": {},
   "outputs": [
    {
     "data": {
      "text/plain": [
       "[0, 0]"
      ]
     },
     "execution_count": 26,
     "metadata": {},
     "output_type": "execute_result"
    }
   ],
   "source": [
    "[0]*2"
   ]
  },
  {
   "cell_type": "code",
   "execution_count": 27,
   "id": "63d71b62",
   "metadata": {},
   "outputs": [
    {
     "name": "stdout",
     "output_type": "stream",
     "text": [
      "0\n"
     ]
    },
    {
     "data": {
      "text/plain": [
       "[[], [0], [0, 0], [0, 0, 0], [0, 0, 0, 0], [0, 0, 0, 0, 0]]"
      ]
     },
     "execution_count": 27,
     "metadata": {},
     "output_type": "execute_result"
    }
   ],
   "source": [
    "list1 = [[0]*i for i in range(6)]\n",
    "print(len(list1[0]))\n",
    "list1\n"
   ]
  },
  {
   "cell_type": "code",
   "execution_count": 28,
   "id": "9b179573",
   "metadata": {},
   "outputs": [],
   "source": [
    "#chapter 2  page:255"
   ]
  },
  {
   "cell_type": "code",
   "execution_count": 21,
   "id": "27d1962d",
   "metadata": {},
   "outputs": [
    {
     "name": "stdout",
     "output_type": "stream",
     "text": [
      "enter the integer5\n",
      "1 0 1 0 1 \n",
      "0 1 0 1 0 \n",
      "1 0 1 0 1 \n",
      "0 1 0 1 0 \n",
      "1 0 1 0 1 \n"
     ]
    }
   ],
   "source": [
    "n = int(input(\"enter the integer\"))\n",
    "\n",
    "a = []\n",
    "\n",
    "for i in range(n):\n",
    "    b = []\n",
    "    for j in range(n):\n",
    "        if (i+j) % 2 == 0:\n",
    "            b.append(1)\n",
    "        else:\n",
    "            b.append(0)\n",
    "        print(b[j],end = \" \")\n",
    "    print()\n",
    "\n",
    "    \n",
    "\n",
    "\n"
   ]
  },
  {
   "cell_type": "markdown",
   "id": "5a99350b",
   "metadata": {},
   "source": [
    "***UNİT14 DİCTİONARY METHOD*** \n"
   ]
  },
  {
   "cell_type": "code",
   "execution_count": 23,
   "id": "14470fcc",
   "metadata": {},
   "outputs": [
    {
     "name": "stdout",
     "output_type": "stream",
     "text": [
      "alphabet counting:  {'a': 2, 'b': 3, 'c': 2}\n"
     ]
    }
   ],
   "source": [
    "str1 = [\"a\",\"b\",\"c\",\"b\",\"a\",\"b\",\"c\"]\n",
    "dic = {}\n",
    "for ch in str1:\n",
    "    if ch not in dic:\n",
    "        dic[ch] = 0\n",
    "    dic[ch] += 1\n",
    "print(\"alphabet counting: \",dic)"
   ]
  },
  {
   "cell_type": "code",
   "execution_count": 32,
   "id": "7e496569",
   "metadata": {},
   "outputs": [
    {
     "name": "stdout",
     "output_type": "stream",
     "text": [
      "[('a', 1)]\n",
      "[('a', 1), ('b', 1)]\n",
      "[('a', 1), ('b', 1), ('c', 1)]\n",
      "[('a', 1), ('b', 2), ('c', 1)]\n",
      "[('a', 2), ('b', 2), ('c', 1)]\n",
      "[('a', 2), ('b', 3), ('c', 1)]\n",
      "[('a', 2), ('b', 3), ('c', 2)]\n",
      "alphabet counting:  {'a': 2, 'b': 3, 'c': 2}\n"
     ]
    }
   ],
   "source": [
    "str1 = [\"a\",\"b\",\"c\",\"b\",\"a\",\"b\",\"c\"]\n",
    "dic = {}\n",
    "for ch in str1:\n",
    "    dic.setdefault(ch,0)\n",
    "    dic[ch] += 1\n",
    "    print(list(dic.items()))\n",
    "\n",
    "print(\"alphabet counting: \",dic)\n",
    "        \n",
    "\n",
    "    \n"
   ]
  },
  {
   "cell_type": "code",
   "execution_count": 34,
   "id": "baf2b795",
   "metadata": {},
   "outputs": [
    {
     "name": "stdout",
     "output_type": "stream",
     "text": [
      "Last Name : Doe\n",
      "First Name : David\n",
      "Company : Samsung\n"
     ]
    }
   ],
   "source": [
    "person_dict = {\"Last Name\":\"Doe\", \"First Name\":\"David\", \"Company\":\"Samsung\"}\n",
    "\n",
    "for a,b in person_dict.items():\n",
    "    print(a,\":\",b)"
   ]
  },
  {
   "cell_type": "code",
   "execution_count": 2,
   "id": "65a63514",
   "metadata": {},
   "outputs": [
    {
     "name": "stdout",
     "output_type": "stream",
     "text": [
      "Enter the name of the item: Milk\n",
      "1\n"
     ]
    }
   ],
   "source": [
    "items = {\"Coffee\": 7, \"Pen\":3, \"Paper cup\": 2, \"Milk\": 1, \"Coke\": 4, \"Book\":5} \n",
    "\n",
    "i = input(\"Enter the name of the item: \")\n",
    "\n",
    "if i in items:\n",
    "    print(items[i])\n"
   ]
  },
  {
   "cell_type": "code",
   "execution_count": 5,
   "id": "64e3b809",
   "metadata": {},
   "outputs": [
    {
     "name": "stdout",
     "output_type": "stream",
     "text": [
      "7     3     2     1     4     5     "
     ]
    }
   ],
   "source": [
    "for i in items.keys():\n",
    "    print(items[i],end = \"     \")"
   ]
  },
  {
   "cell_type": "code",
   "execution_count": 8,
   "id": "8c601109",
   "metadata": {},
   "outputs": [
    {
     "name": "stdout",
     "output_type": "stream",
     "text": [
      "Coffee : 7     Pen : 3     Paper cup : 2     Milk : 1     Coke : 4     Book : 5     "
     ]
    }
   ],
   "source": [
    "for i,j in items.items():\n",
    "    print(i,\":\",j,end = \"     \")"
   ]
  },
  {
   "cell_type": "code",
   "execution_count": 11,
   "id": "86c7e12f",
   "metadata": {},
   "outputs": [
    {
     "name": "stdout",
     "output_type": "stream",
     "text": [
      "Actions \n",
      "\t speak louder than words\n"
     ]
    },
    {
     "data": {
      "text/plain": [
       "'Actions \\n\\t speak louder than words'"
      ]
     },
     "execution_count": 11,
     "metadata": {},
     "output_type": "execute_result"
    }
   ],
   "source": [
    "a_string = \"Actions \\n\\t speak louder than words\"\n",
    "print(a_string)\n",
    "a_string\n"
   ]
  },
  {
   "cell_type": "code",
   "execution_count": 16,
   "id": "86d3f0fc",
   "metadata": {},
   "outputs": [
    {
     "data": {
      "text/plain": [
       "True"
      ]
     },
     "execution_count": 16,
     "metadata": {},
     "output_type": "execute_result"
    }
   ],
   "source": [
    "s = \"ABCDEFGHIJKLMNOPQRSTUVWXYZ\"\n",
    "s.endswith(\"C\",1,3)"
   ]
  },
  {
   "cell_type": "code",
   "execution_count": null,
   "id": "7fde487d",
   "metadata": {},
   "outputs": [],
   "source": []
  },
  {
   "cell_type": "code",
   "execution_count": null,
   "id": "ce8ddb39",
   "metadata": {},
   "outputs": [],
   "source": []
  },
  {
   "cell_type": "code",
   "execution_count": null,
   "id": "ce72dfd2",
   "metadata": {},
   "outputs": [],
   "source": []
  },
  {
   "cell_type": "code",
   "execution_count": null,
   "id": "e5562c34",
   "metadata": {},
   "outputs": [],
   "source": []
  }
 ],
 "metadata": {
  "kernelspec": {
   "display_name": "Python 3 (ipykernel)",
   "language": "python",
   "name": "python3"
  },
  "language_info": {
   "codemirror_mode": {
    "name": "ipython",
    "version": 3
   },
   "file_extension": ".py",
   "mimetype": "text/x-python",
   "name": "python",
   "nbconvert_exporter": "python",
   "pygments_lexer": "ipython3",
   "version": "3.9.7"
  }
 },
 "nbformat": 4,
 "nbformat_minor": 5
}
