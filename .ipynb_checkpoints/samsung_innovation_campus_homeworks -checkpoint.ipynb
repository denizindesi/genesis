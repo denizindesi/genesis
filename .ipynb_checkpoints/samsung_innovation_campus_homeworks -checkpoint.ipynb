{
 "cells": [
  {
   "cell_type": "code",
   "execution_count": 1,
   "id": "bb13baa7",
   "metadata": {},
   "outputs": [
    {
     "name": "stdout",
     "output_type": "stream",
     "text": [
      "     *\n",
      "    ***\n",
      "   *****\n",
      " *********\n",
      "   *****\n",
      "    ***\n",
      "     *\n"
     ]
    }
   ],
   "source": [
    "space = \" \"  # space is a single space variable \n",
    "\n",
    "print(space * 4, \"*\" * 1)\n",
    "print(space * 3, \"*\" * 3)\n",
    "print(space * 2, \"*\" * 5)\n",
    "print(space * 0, \"*\" * 9)\n",
    "print(space * 2, \"*\" * 5)\n",
    "print(space * 3, \"*\" * 3)\n",
    "print(space * 4, \"*\" * 1)"
   ]
  },
  {
   "cell_type": "code",
   "execution_count": 2,
   "id": "afcc7da5",
   "metadata": {},
   "outputs": [
    {
     "name": "stdout",
     "output_type": "stream",
     "text": [
      "                                                       *\n",
      "                                                      ***\n",
      "                                                     *****\n",
      "                                                   *********\n",
      "                                                     *****\n",
      "                                                      ***\n",
      "                                                       *\n"
     ]
    }
   ],
   "source": [
    "space = \" \"  # space is a single space variable \n",
    "space_x = 50 * space #space_x variable will be used for intendation \n",
    "\n",
    "print(space_x + space * 4, \"*\" * 1)\n",
    "print(space_x + space * 3, \"*\" * 3)\n",
    "print(space_x + space * 2, \"*\" * 5)\n",
    "print(space_x + space * 0, \"*\" * 9)\n",
    "print(space_x + space * 2, \"*\" * 5)\n",
    "print(space_x + space * 3, \"*\" * 3)\n",
    "print(space_x + space * 4, \"*\" * 1)"
   ]
  },
  {
   "cell_type": "code",
   "execution_count": 3,
   "id": "9a1f936f",
   "metadata": {},
   "outputs": [
    {
     "name": "stdout",
     "output_type": "stream",
     "text": [
      "               *\n",
      "              ***\n",
      "             *****\n",
      "           *********\n",
      "             *****\n",
      "              ***\n",
      "               *\n"
     ]
    }
   ],
   "source": [
    "space = \" \"  # space is a single space variable \n",
    "space_x = 10 * space #space_x variable will be used for intendation \n",
    "\n",
    "print(space_x + space * 4, \"*\" * 1)\n",
    "print(space_x + space * 3, \"*\" * 3)\n",
    "print(space_x + space * 2, \"*\" * 5)\n",
    "print(space_x + space * 0, \"*\" * 9)\n",
    "print(space_x + space * 2, \"*\" * 5)\n",
    "print(space_x + space * 3, \"*\" * 3)\n",
    "print(space_x + space * 4, \"*\" * 1)"
   ]
  },
  {
   "cell_type": "code",
   "execution_count": null,
   "id": "4d4b8fd5",
   "metadata": {},
   "outputs": [],
   "source": [
    "x = int(input(\"enter a number,positive please better even\"))\n",
    "upper = int((x+1)/2)  #the number of most asteriks\n",
    "space = \" \"\n",
    "space_x = int(input(\"how many space you want indent?\"))\n",
    "\n",
    "for i in range (0,upper):\n",
    "    print(space*(x-(i)) + \"*\" * (2 * i +1))\n",
    "for i in range (upper-1,-1,-1):\n",
    "    print(space*(x-(i)) + \"*\" * (2 * i +1 ))\n"
   ]
  },
  {
   "cell_type": "code",
   "execution_count": null,
   "id": "5dd89268",
   "metadata": {},
   "outputs": [],
   "source": [
    "for i in range (6,-1,-1):\n",
    "    print(i)"
   ]
  },
  {
   "cell_type": "code",
   "execution_count": null,
   "id": "e33412ed",
   "metadata": {},
   "outputs": [],
   "source": [
    "for i in range (0,6):\n",
    "    print(i)"
   ]
  },
  {
   "cell_type": "code",
   "execution_count": null,
   "id": "039dc15f",
   "metadata": {},
   "outputs": [],
   "source": [
    "                 \n",
    "print(\"Hello,i will introduce myself\")\n",
    "print(\"My name: Huseyin\")\n",
    "print(\"Age: 30\")\n",
    "print(\"Job: Math Tutor  \")\n",
    "print(\"Adres: Baglar, Diyarbakir\")\n",
    "print(\"Place of Birth:Kulp/Diyarbakir, TR\")\n",
    "\n"
   ]
  },
  {
   "cell_type": "code",
   "execution_count": null,
   "id": "9910bfbb",
   "metadata": {},
   "outputs": [],
   "source": [
    "import math\n",
    "\n",
    "def print_factors(*numbers):\n",
    "    for x in numbers:\n",
    "        if x < 1:\n",
    "            print(\"No factors for numbers less than 1.\")\n",
    "            continue\n",
    "\n",
    "        lower_factors = []  # To store factors less than or equal to the square root\n",
    "        upper_factors = []  # To store factors greater than the square root\n",
    "\n",
    "        # Iterate up to the square root of n\n",
    "        for i in range(1, int(math.sqrt(x)) + 1):\n",
    "            if x % i == 0:\n",
    "                lower_factors.append(i)\n",
    "                if i != x // i:\n",
    "                    upper_factors.append(x // i)\n",
    "\n",
    "        # Combine the lists: lower factors and reversed upper factors\n",
    "        factors = lower_factors + upper_factors[::-1]\n",
    "\n",
    "        print(f\"Factors of {x}: {factors}\")\n",
    "\n",
    "# Example usage\n",
    "print_factors(18,39,63,126,792)  # This will print the factors of 121, 144, and 156\n",
    "\n"
   ]
  },
  {
   "cell_type": "code",
   "execution_count": null,
   "id": "fe592ad0",
   "metadata": {},
   "outputs": [],
   "source": [
    "import time\n",
    "\n",
    "start_time = time.time()\n",
    "print_factors(121,144,156)  # Call your function with some input\n",
    "end_time = time.time()\n",
    "\n",
    "print(f\"Execution time: {end_time - start_time} seconds\")\n"
   ]
  },
  {
   "cell_type": "markdown",
   "id": "c1c0f303",
   "metadata": {},
   "source": [
    "***Unit3-4-5 Paper and Pair Codings Examples***"
   ]
  },
  {
   "cell_type": "code",
   "execution_count": null,
   "id": "117c1bd4",
   "metadata": {},
   "outputs": [],
   "source": [
    "a =\"1\"+\"0\"+\"0\"+\"0\"\n",
    "print(a)\n",
    "print(type(a))\n",
    "a = int(a)\n",
    "print(a)\n",
    "print(type(a))"
   ]
  },
  {
   "cell_type": "code",
   "execution_count": null,
   "id": "6e127dc0",
   "metadata": {},
   "outputs": [],
   "source": [
    "#factorial function\n",
    "\n",
    "def fact(x):\n",
    "   a = 1 #initialize a\n",
    "   for i in range(1,x+1):\n",
    "        a = a * i\n",
    "   print(x,\"! = \",a)\n",
    "   return a \n",
    "\n",
    "fact(5)\n",
    "fact(-5)"
   ]
  },
  {
   "cell_type": "code",
   "execution_count": null,
   "id": "1676416f",
   "metadata": {},
   "outputs": [],
   "source": [
    "def fact(x):\n",
    "    if not isinstance(x, int) or x < 0:    #if parameter of function is noninteger or negative \n",
    "        print(\"Input must be a non-negative integer\")\n",
    "        return None\n",
    "\n",
    "    a = 1\n",
    "    for i in range(1, x + 1):\n",
    "        a *= i\n",
    "    print(x, \"! =\", a)\n",
    "    return a\n"
   ]
  },
  {
   "cell_type": "code",
   "execution_count": null,
   "id": "9ac4c9ee",
   "metadata": {},
   "outputs": [],
   "source": [
    "fact(-5)"
   ]
  },
  {
   "cell_type": "code",
   "execution_count": null,
   "id": "77968e14",
   "metadata": {},
   "outputs": [],
   "source": [
    "x = input (\"give the width of rectangle\")\n",
    "y = input (\"give the height of rectangle\")\n",
    "if not isinstance(x,y, float) or x,y < 0:    #if parameter of function is non float or negative \n",
    "        print(\"Input must be a non-negative integer\")\n",
    "        return None"
   ]
  },
  {
   "cell_type": "code",
   "execution_count": null,
   "id": "b4f11010",
   "metadata": {},
   "outputs": [],
   "source": [
    "x = input(\"input the width of the rectangle: \")\n",
    "y = input(\"input the height of the rectangle: \")\n",
    "\n",
    "try:\n",
    "    x = float(x)\n",
    "    y = float(y)\n",
    "    if x < 0 or y < 0:\n",
    "        \n",
    "        print(\"Inputs must be non-negative numbers.\")\n",
    "    else:\n",
    "       print(\"area of rectangle: \",x*y )\n",
    "except ValueError:\n",
    "    print(\"Inputs must be numbers.\")\n"
   ]
  },
  {
   "cell_type": "code",
   "execution_count": null,
   "id": "14c6870f",
   "metadata": {},
   "outputs": [],
   "source": [
    "import math \n",
    "a = float(input(\"enter the bottom of the first line: \"))\n",
    "b = float(input(\"enter the height of the second line: \"))\n",
    "\n",
    "c = math.sqrt(a**2 + b**2)\n",
    "print(\"the length of hypotenuse is the: \",c )\n"
   ]
  },
  {
   "cell_type": "code",
   "execution_count": null,
   "id": "53f9ae29",
   "metadata": {},
   "outputs": [],
   "source": [
    "import math \n",
    "r = float(input(\"enter the raidus of circle\"))\n",
    "area = math.pi*r**2\n",
    "print(\"area of circle = \",area)\n",
    "\n",
    "circumference = 2*math.pi*r\n",
    "print(\"circumference = \",circumference)"
   ]
  },
  {
   "cell_type": "code",
   "execution_count": null,
   "id": "5bb781e8",
   "metadata": {},
   "outputs": [],
   "source": [
    "print(\"a  n   a**n\")\n",
    "for i in range(2,7):  \n",
    "    \n",
    "    print(str(i) + \"**2 =\",i**2)"
   ]
  },
  {
   "cell_type": "code",
   "execution_count": null,
   "id": "d2f48c91",
   "metadata": {},
   "outputs": [],
   "source": [
    "a = int(input(\"enter an integer \"))\n",
    "print(\"is the integer odd?::\",a % 2 != 0)"
   ]
  },
  {
   "cell_type": "code",
   "execution_count": null,
   "id": "1728fa4a",
   "metadata": {},
   "outputs": [],
   "source": [
    "a = int(input(\"enter an integer \"))\n",
    "print(\"is the input an even integer between 0 or 100 ::\",a % 2 == 0 and a <= 100 and a >= 0)"
   ]
  },
  {
   "cell_type": "code",
   "execution_count": null,
   "id": "887b943c",
   "metadata": {},
   "outputs": [],
   "source": [
    "a = int(input(\"enter an integer \"))\n",
    "print(\"is hundredth digit of the integer 3 ?:\",a//100 == 3)"
   ]
  },
  {
   "cell_type": "code",
   "execution_count": null,
   "id": "9a9b56f6",
   "metadata": {},
   "outputs": [],
   "source": [
    "a = int(input(\"enter an integer \"))\n",
    "print(\"is the number a multiple of 5? :\",a % 5 == 0)"
   ]
  },
  {
   "cell_type": "markdown",
   "id": "c06c0a36",
   "metadata": {},
   "source": [
    "***Unit 6-7-8-9 Paper and Pair Codings Examples"
   ]
  },
  {
   "cell_type": "code",
   "execution_count": null,
   "id": "70bd1a26",
   "metadata": {},
   "outputs": [],
   "source": [
    "def func(x):\n",
    "    pass\n",
    "func(5)"
   ]
  },
  {
   "cell_type": "code",
   "execution_count": null,
   "id": "8a493568",
   "metadata": {},
   "outputs": [],
   "source": [
    "game_score = int(input(\"enter the game score: \"))\n",
    "\n",
    "if game_score >= 1500:\n",
    "    print(\"you are a master\")\n",
    "else:\n",
    "    print(\"you are nothing!\")"
   ]
  },
  {
   "cell_type": "code",
   "execution_count": null,
   "id": "932e42ce",
   "metadata": {},
   "outputs": [],
   "source": [
    "x = int(input(\"enter an integer between -100 and 100\"))\n",
    "\n",
    "if x>0:\n",
    "    print(\"x is a natural number!\")\n",
    "else:\n",
    "    print(\"x = \",x)"
   ]
  },
  {
   "cell_type": "code",
   "execution_count": 8,
   "id": "5f86f649",
   "metadata": {},
   "outputs": [
    {
     "name": "stdout",
     "output_type": "stream",
     "text": [
      "enter three number separated by,:10,20,30\n",
      "10 20 30\n"
     ]
    }
   ],
   "source": [
    "num1, num2, num3 = input(\"enter three number separated by,:\").split(\",\")\n",
    "num1, num2, num3 = int(num1), int(num2), int(num3)\n",
    "print(num1, num2, num3)"
   ]
  },
  {
   "cell_type": "code",
   "execution_count": 11,
   "id": "8d5ae45c",
   "metadata": {},
   "outputs": [
    {
     "name": "stdout",
     "output_type": "stream",
     "text": [
      "enter the age: 25\n",
      "Adult\n"
     ]
    }
   ],
   "source": [
    "age = int(input(\"enter the age: \"))\n",
    "if age  > 20:\n",
    "    print(\"Adult\")\n",
    "elif age >= 10:\n",
    "    print(\"Young\")\n",
    "else:\n",
    "    print(\"Kid\")"
   ]
  },
  {
   "cell_type": "code",
   "execution_count": 3,
   "id": "0c042347",
   "metadata": {},
   "outputs": [
    {
     "name": "stdout",
     "output_type": "stream",
     "text": [
      "enter a letter: k\n",
      "k is a consonant\n"
     ]
    }
   ],
   "source": [
    "vowels = \"aeiou\"\n",
    "letter = input(\"enter a letter: \")\n",
    "\n",
    "if letter in vowels:\n",
    "    print(letter,\"is a vowel\")\n",
    "else:\n",
    "    print(letter,\"is a consonant\")"
   ]
  },
  {
   "cell_type": "code",
   "execution_count": 12,
   "id": "4f38cd36",
   "metadata": {},
   "outputs": [
    {
     "name": "stdout",
     "output_type": "stream",
     "text": [
      "enter the number and separate them by ,  30,7\n",
      "30 is not a multiple of 7\n"
     ]
    }
   ],
   "source": [
    "a,b = input(\"enter the number and separate them by ,  \").split(\",\")\n",
    "a,b = int(a), int(b)\n",
    "\n",
    "if a % b == 0:\n",
    "    print(a,\"is a multiple of\",b)\n",
    "else:\n",
    "    print(a,\"is not a multiple of\",b)\n",
    "    "
   ]
  },
  {
   "cell_type": "code",
   "execution_count": 31,
   "id": "b03a112b",
   "metadata": {},
   "outputs": [
    {
     "name": "stdout",
     "output_type": "stream",
     "text": [
      "1) Addition  2) Subtraction  3) Multiplication  4) Division \n",
      "Enter the desired number of operation: 1\n",
      "Enter two numbers for operation and separate them by , :50,10\n",
      "50 + 10 =  60\n"
     ]
    }
   ],
   "source": [
    "print(\"1) Addition  2) Subtraction  3) Multiplication  4) Division \")\n",
    "op_numb = int(input(\"Enter the desired number of operation: \"))\n",
    "a,b = input(\"Enter two numbers for operation and separate them by , :\").split(\",\")\n",
    "a,b = int(a), int(b)\n",
    "\n",
    "if op_numb == 1:\n",
    "    print(f\"{a} + {b} = \",a+b)\n",
    "elif op_numb == 2:\n",
    "    print(f\"{a} - {b} ={a-b}\")\n",
    "elif op_numb == 3:\n",
    "    print(f\"{a} * {b} ={a*b}\")\n",
    "elif op_numb == 4:\n",
    "    print(f\"{a} / {b} ={a/b}\")\n"
   ]
  },
  {
   "cell_type": "code",
   "execution_count": 40,
   "id": "5e3dbf57",
   "metadata": {},
   "outputs": [
    {
     "name": "stdout",
     "output_type": "stream",
     "text": [
      "Enter x,y coordinates and separate them , :-4,-5\n",
      "In the third quadrant\n"
     ]
    }
   ],
   "source": [
    "x, y  = input(\"Enter x,y coordinates and separate them , :\").split(\",\") #take two valueand assign them x and  y \n",
    "x, y = int(x), int(y)  #convert hem integer\n",
    "\n",
    "if x>0 and y>0 :   #check  for x and y values \n",
    "    print(\"In the first quadrant\")\n",
    "elif x<0 and y>0 :\n",
    "    print(\"In the second quadrant\")\n",
    "elif x<0 and y<0 :\n",
    "    print(\"In the third quadrant\")\n",
    "else:\n",
    "    print(\"In the fourth quadrant\")"
   ]
  },
  {
   "cell_type": "code",
   "execution_count": 49,
   "id": "487eb50e",
   "metadata": {},
   "outputs": [
    {
     "name": "stdout",
     "output_type": "stream",
     "text": [
      "Welcome to Yummy Restaurant,here is the menu.\n",
      " -Burger(enter b)\n",
      " -Chicken(enter c)\n",
      " -Pizza(enter p)\n",
      "Please choose one of the menu(b,c,p),but just one please!\n",
      "10\n",
      "You choose pizzzzza!!!\n"
     ]
    }
   ],
   "source": [
    "print(\"Welcome to Yummy Restaurant,here is the menu.\")\n",
    "print(\" -Burger(enter b)\\n -Chicken(enter c)\\n -Pizza(enter p)\")\n",
    "\n",
    "choosen_menu = input(\"Please choose one of the menu(b,c,p),but just one please!\\n\")\n",
    "\n",
    "if choosen_menu == \"c\":\n",
    "    print(\"You chooes chiccccckkkenn!!!\")\n",
    "elif choosen_menu == \"b\":\n",
    "    print(\"You chooes buuurgerrrrr!!!\")\n",
    "else:\n",
    "    print(\"You choose pizzzzza!!!\")"
   ]
  },
  {
   "cell_type": "code",
   "execution_count": 50,
   "id": "2367b732",
   "metadata": {},
   "outputs": [
    {
     "name": "stdout",
     "output_type": "stream",
     "text": [
      "['H', 'e', 'l', 'l', 'o']\n"
     ]
    }
   ],
   "source": [
    "st = \"Hello\"\n",
    "print(list(st))"
   ]
  },
  {
   "cell_type": "code",
   "execution_count": 53,
   "id": "c6100a61",
   "metadata": {},
   "outputs": [
    {
     "name": "stdout",
     "output_type": "stream",
     "text": [
      "H   e   l   l   o   "
     ]
    }
   ],
   "source": [
    "st = \"Hello\"\n",
    "\n",
    "for ch in st :\n",
    "    print(ch,end = \"   \")"
   ]
  },
  {
   "cell_type": "code",
   "execution_count": 54,
   "id": "61de55c5",
   "metadata": {},
   "outputs": [
    {
     "name": "stdout",
     "output_type": "stream",
     "text": [
      "V\n",
      "J-Hope\n",
      "RM\n",
      "Jungkook\n",
      "Jin\n",
      "Jimin\n",
      "Suga\n"
     ]
    }
   ],
   "source": [
    "bts = [\"V\",\"J-Hope\",\"RM\",\"Jungkook\",\"Jin\",\"Jimin\",\"Suga\"]\n",
    "\n",
    "for i in bts:\n",
    "    print(i)\n",
    "    "
   ]
  },
  {
   "cell_type": "code",
   "execution_count": 56,
   "id": "875ad8f5",
   "metadata": {},
   "outputs": [
    {
     "name": "stdout",
     "output_type": "stream",
     "text": [
      "sum of integers from 1 to 100 is: 5050\n"
     ]
    }
   ],
   "source": [
    "s = 0 # define a summ variable\n",
    "for i in range(101):\n",
    "    s += i\n",
    "print(f\"sum of integers from 1 to 100 is: {s}\")"
   ]
  },
  {
   "cell_type": "code",
   "execution_count": 60,
   "id": "a6ff16e0",
   "metadata": {},
   "outputs": [
    {
     "name": "stdout",
     "output_type": "stream",
     "text": [
      "sum of even integers from 0 to 100 is: 2550\n"
     ]
    }
   ],
   "source": [
    "s = 0 # define a summ variable\n",
    "for i in range(2,102,2):\n",
    "    s += i\n",
    "print(f\"sum of even integers from 0 to 100 is: {s}\")"
   ]
  },
  {
   "cell_type": "code",
   "execution_count": 61,
   "id": "341cb717",
   "metadata": {},
   "outputs": [
    {
     "name": "stdout",
     "output_type": "stream",
     "text": [
      "sum of odd integers from 0 to 100 is: 2500\n"
     ]
    }
   ],
   "source": [
    "s = 0 # define a summ variable\n",
    "for i in range(1,100,2):\n",
    "    s += i\n",
    "print(f\"sum of odd integers from 0 to 100 is: {s}\")"
   ]
  },
  {
   "cell_type": "code",
   "execution_count": null,
   "id": "1157907a",
   "metadata": {},
   "outputs": [],
   "source": []
  },
  {
   "cell_type": "code",
   "execution_count": null,
   "id": "fc7eab21",
   "metadata": {},
   "outputs": [],
   "source": []
  },
  {
   "cell_type": "code",
   "execution_count": null,
   "id": "7ec62926",
   "metadata": {},
   "outputs": [],
   "source": []
  }
 ],
 "metadata": {
  "kernelspec": {
   "display_name": "Python 3 (ipykernel)",
   "language": "python",
   "name": "python3"
  },
  "language_info": {
   "codemirror_mode": {
    "name": "ipython",
    "version": 3
   },
   "file_extension": ".py",
   "mimetype": "text/x-python",
   "name": "python",
   "nbconvert_exporter": "python",
   "pygments_lexer": "ipython3",
   "version": "3.11.5"
  }
 },
 "nbformat": 4,
 "nbformat_minor": 5
}
