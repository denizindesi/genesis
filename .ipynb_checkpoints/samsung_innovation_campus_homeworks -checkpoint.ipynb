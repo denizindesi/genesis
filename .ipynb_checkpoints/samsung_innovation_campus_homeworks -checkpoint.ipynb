{
 "cells": [
  {
   "cell_type": "code",
   "execution_count": 1,
   "id": "bb13baa7",
   "metadata": {},
   "outputs": [
    {
     "name": "stdout",
     "output_type": "stream",
     "text": [
      "     *\n",
      "    ***\n",
      "   *****\n",
      " *********\n",
      "   *****\n",
      "    ***\n",
      "     *\n"
     ]
    }
   ],
   "source": [
    "space = \" \"  # space is a single space variable \n",
    "\n",
    "print(space * 4, \"*\" * 1)\n",
    "print(space * 3, \"*\" * 3)\n",
    "print(space * 2, \"*\" * 5)\n",
    "print(space * 0, \"*\" * 9)\n",
    "print(space * 2, \"*\" * 5)\n",
    "print(space * 3, \"*\" * 3)\n",
    "print(space * 4, \"*\" * 1)"
   ]
  },
  {
   "cell_type": "code",
   "execution_count": 2,
   "id": "afcc7da5",
   "metadata": {},
   "outputs": [
    {
     "name": "stdout",
     "output_type": "stream",
     "text": [
      "                                                       *\n",
      "                                                      ***\n",
      "                                                     *****\n",
      "                                                   *********\n",
      "                                                     *****\n",
      "                                                      ***\n",
      "                                                       *\n"
     ]
    }
   ],
   "source": [
    "space = \" \"  # space is a single space variable \n",
    "space_x = 50 * space #space_x variable will be used for intendation \n",
    "\n",
    "print(space_x + space * 4, \"*\" * 1)\n",
    "print(space_x + space * 3, \"*\" * 3)\n",
    "print(space_x + space * 2, \"*\" * 5)\n",
    "print(space_x + space * 0, \"*\" * 9)\n",
    "print(space_x + space * 2, \"*\" * 5)\n",
    "print(space_x + space * 3, \"*\" * 3)\n",
    "print(space_x + space * 4, \"*\" * 1)"
   ]
  },
  {
   "cell_type": "code",
   "execution_count": 3,
   "id": "9a1f936f",
   "metadata": {},
   "outputs": [
    {
     "name": "stdout",
     "output_type": "stream",
     "text": [
      "               *\n",
      "              ***\n",
      "             *****\n",
      "           *********\n",
      "             *****\n",
      "              ***\n",
      "               *\n"
     ]
    }
   ],
   "source": [
    "space = \" \"  # space is a single space variable \n",
    "space_x = 10 * space #space_x variable will be used for intendation \n",
    "\n",
    "print(space_x + space * 4, \"*\" * 1)\n",
    "print(space_x + space * 3, \"*\" * 3)\n",
    "print(space_x + space * 2, \"*\" * 5)\n",
    "print(space_x + space * 0, \"*\" * 9)\n",
    "print(space_x + space * 2, \"*\" * 5)\n",
    "print(space_x + space * 3, \"*\" * 3)\n",
    "print(space_x + space * 4, \"*\" * 1)"
   ]
  },
  {
   "cell_type": "code",
   "execution_count": 4,
   "id": "4d4b8fd5",
   "metadata": {},
   "outputs": [
    {
     "ename": "KeyboardInterrupt",
     "evalue": "Interrupted by user",
     "output_type": "error",
     "traceback": [
      "\u001b[1;31m---------------------------------------------------------------------------\u001b[0m",
      "\u001b[1;31mKeyboardInterrupt\u001b[0m                         Traceback (most recent call last)",
      "\u001b[1;32mC:\\Users\\DENIZI~1\\AppData\\Local\\Temp/ipykernel_10104/2930524657.py\u001b[0m in \u001b[0;36m<module>\u001b[1;34m\u001b[0m\n\u001b[1;32m----> 1\u001b[1;33m \u001b[0mx\u001b[0m \u001b[1;33m=\u001b[0m \u001b[0mint\u001b[0m\u001b[1;33m(\u001b[0m\u001b[0minput\u001b[0m\u001b[1;33m(\u001b[0m\u001b[1;34m\"enter a number,positive please better even\"\u001b[0m\u001b[1;33m)\u001b[0m\u001b[1;33m)\u001b[0m\u001b[1;33m\u001b[0m\u001b[1;33m\u001b[0m\u001b[0m\n\u001b[0m\u001b[0;32m      2\u001b[0m \u001b[0mupper\u001b[0m \u001b[1;33m=\u001b[0m \u001b[0mint\u001b[0m\u001b[1;33m(\u001b[0m\u001b[1;33m(\u001b[0m\u001b[0mx\u001b[0m\u001b[1;33m+\u001b[0m\u001b[1;36m1\u001b[0m\u001b[1;33m)\u001b[0m\u001b[1;33m/\u001b[0m\u001b[1;36m2\u001b[0m\u001b[1;33m)\u001b[0m  \u001b[1;31m#the number of most asteriks\u001b[0m\u001b[1;33m\u001b[0m\u001b[1;33m\u001b[0m\u001b[0m\n\u001b[0;32m      3\u001b[0m \u001b[0mspace\u001b[0m \u001b[1;33m=\u001b[0m \u001b[1;34m\" \"\u001b[0m\u001b[1;33m\u001b[0m\u001b[1;33m\u001b[0m\u001b[0m\n\u001b[0;32m      4\u001b[0m \u001b[0mspace_x\u001b[0m \u001b[1;33m=\u001b[0m \u001b[0mint\u001b[0m\u001b[1;33m(\u001b[0m\u001b[0minput\u001b[0m\u001b[1;33m(\u001b[0m\u001b[1;34m\"how many space you want indent?\"\u001b[0m\u001b[1;33m)\u001b[0m\u001b[1;33m)\u001b[0m\u001b[1;33m\u001b[0m\u001b[1;33m\u001b[0m\u001b[0m\n\u001b[0;32m      5\u001b[0m \u001b[1;33m\u001b[0m\u001b[0m\n",
      "\u001b[1;32mC:\\ProgramData\\Anaconda3\\lib\\site-packages\\ipykernel\\kernelbase.py\u001b[0m in \u001b[0;36mraw_input\u001b[1;34m(self, prompt)\u001b[0m\n\u001b[0;32m   1004\u001b[0m                 \u001b[1;34m\"raw_input was called, but this frontend does not support input requests.\"\u001b[0m\u001b[1;33m\u001b[0m\u001b[1;33m\u001b[0m\u001b[0m\n\u001b[0;32m   1005\u001b[0m             )\n\u001b[1;32m-> 1006\u001b[1;33m         return self._input_request(\n\u001b[0m\u001b[0;32m   1007\u001b[0m             \u001b[0mstr\u001b[0m\u001b[1;33m(\u001b[0m\u001b[0mprompt\u001b[0m\u001b[1;33m)\u001b[0m\u001b[1;33m,\u001b[0m\u001b[1;33m\u001b[0m\u001b[1;33m\u001b[0m\u001b[0m\n\u001b[0;32m   1008\u001b[0m             \u001b[0mself\u001b[0m\u001b[1;33m.\u001b[0m\u001b[0m_parent_ident\u001b[0m\u001b[1;33m[\u001b[0m\u001b[1;34m\"shell\"\u001b[0m\u001b[1;33m]\u001b[0m\u001b[1;33m,\u001b[0m\u001b[1;33m\u001b[0m\u001b[1;33m\u001b[0m\u001b[0m\n",
      "\u001b[1;32mC:\\ProgramData\\Anaconda3\\lib\\site-packages\\ipykernel\\kernelbase.py\u001b[0m in \u001b[0;36m_input_request\u001b[1;34m(self, prompt, ident, parent, password)\u001b[0m\n\u001b[0;32m   1049\u001b[0m             \u001b[1;32mexcept\u001b[0m \u001b[0mKeyboardInterrupt\u001b[0m\u001b[1;33m:\u001b[0m\u001b[1;33m\u001b[0m\u001b[1;33m\u001b[0m\u001b[0m\n\u001b[0;32m   1050\u001b[0m                 \u001b[1;31m# re-raise KeyboardInterrupt, to truncate traceback\u001b[0m\u001b[1;33m\u001b[0m\u001b[1;33m\u001b[0m\u001b[0m\n\u001b[1;32m-> 1051\u001b[1;33m                 \u001b[1;32mraise\u001b[0m \u001b[0mKeyboardInterrupt\u001b[0m\u001b[1;33m(\u001b[0m\u001b[1;34m\"Interrupted by user\"\u001b[0m\u001b[1;33m)\u001b[0m \u001b[1;32mfrom\u001b[0m \u001b[1;32mNone\u001b[0m\u001b[1;33m\u001b[0m\u001b[1;33m\u001b[0m\u001b[0m\n\u001b[0m\u001b[0;32m   1052\u001b[0m             \u001b[1;32mexcept\u001b[0m \u001b[0mException\u001b[0m\u001b[1;33m:\u001b[0m\u001b[1;33m\u001b[0m\u001b[1;33m\u001b[0m\u001b[0m\n\u001b[0;32m   1053\u001b[0m                 \u001b[0mself\u001b[0m\u001b[1;33m.\u001b[0m\u001b[0mlog\u001b[0m\u001b[1;33m.\u001b[0m\u001b[0mwarning\u001b[0m\u001b[1;33m(\u001b[0m\u001b[1;34m\"Invalid Message:\"\u001b[0m\u001b[1;33m,\u001b[0m \u001b[0mexc_info\u001b[0m\u001b[1;33m=\u001b[0m\u001b[1;32mTrue\u001b[0m\u001b[1;33m)\u001b[0m\u001b[1;33m\u001b[0m\u001b[1;33m\u001b[0m\u001b[0m\n",
      "\u001b[1;31mKeyboardInterrupt\u001b[0m: Interrupted by user"
     ]
    }
   ],
   "source": [
    "x = int(input(\"enter a number,positive please better even\"))\n",
    "upper = int((x+1)/2)  #the number of most asteriks\n",
    "space = \" \"\n",
    "space_x = int(input(\"how many space you want indent?\"))\n",
    "\n",
    "for i in range (0,upper):\n",
    "    print(space*(x-(i)) + \"*\" * (2 * i +1))\n",
    "for i in range (upper-1,-1,-1):\n",
    "    print(space*(x-(i)) + \"*\" * (2 * i +1 ))\n"
   ]
  },
  {
   "cell_type": "code",
   "execution_count": null,
   "id": "5dd89268",
   "metadata": {},
   "outputs": [],
   "source": [
    "for i in range (6,-1,-1):\n",
    "    print(i)"
   ]
  },
  {
   "cell_type": "code",
   "execution_count": null,
   "id": "e33412ed",
   "metadata": {},
   "outputs": [],
   "source": [
    "for i in range (0,6):\n",
    "    print(i)"
   ]
  },
  {
   "cell_type": "code",
   "execution_count": null,
   "id": "039dc15f",
   "metadata": {},
   "outputs": [],
   "source": [
    "                 \n",
    "print(\"Hello,i will introduce myself\")\n",
    "print(\"My name: Huseyin\")\n",
    "print(\"Age: 30\")\n",
    "print(\"Job: Math Tutor  \")\n",
    "print(\"Adres: Baglar, Diyarbakir\")\n",
    "print(\"Place of Birth:Kulp/Diyarbakir, TR\")\n",
    "\n"
   ]
  },
  {
   "cell_type": "code",
   "execution_count": null,
   "id": "9910bfbb",
   "metadata": {},
   "outputs": [],
   "source": [
    "import math\n",
    "\n",
    "def print_factors(*numbers):\n",
    "    for x in numbers:\n",
    "        if x < 1:\n",
    "            print(\"No factors for numbers less than 1.\")\n",
    "            continue\n",
    "\n",
    "        lower_factors = []  # To store factors less than or equal to the square root\n",
    "        upper_factors = []  # To store factors greater than the square root\n",
    "\n",
    "        # Iterate up to the square root of n\n",
    "        for i in range(1, int(math.sqrt(x)) + 1):\n",
    "            if x % i == 0:\n",
    "                lower_factors.append(i)\n",
    "                if i != x // i:\n",
    "                    upper_factors.append(x // i)\n",
    "\n",
    "        # Combine the lists: lower factors and reversed upper factors\n",
    "        factors = lower_factors + upper_factors[::-1]\n",
    "\n",
    "        print(f\"Factors of {x}: {factors}\")\n",
    "\n",
    "# Example usage\n",
    "print_factors(18,39,63,126,792)  # This will print the factors of 121, 144, and 156\n",
    "\n"
   ]
  },
  {
   "cell_type": "code",
   "execution_count": null,
   "id": "fe592ad0",
   "metadata": {},
   "outputs": [],
   "source": [
    "import time\n",
    "\n",
    "start_time = time.time()\n",
    "print_factors(121,144,156)  # Call your function with some input\n",
    "end_time = time.time()\n",
    "\n",
    "print(f\"Execution time: {end_time - start_time} seconds\")\n"
   ]
  },
  {
   "cell_type": "markdown",
   "id": "c1c0f303",
   "metadata": {},
   "source": [
    "***Unit3-4-5 Paper and Pair Codings Examples***"
   ]
  },
  {
   "cell_type": "code",
   "execution_count": null,
   "id": "117c1bd4",
   "metadata": {},
   "outputs": [],
   "source": [
    "a =\"1\"+\"0\"+\"0\"+\"0\"\n",
    "print(a)\n",
    "print(type(a))\n",
    "a = int(a)\n",
    "print(a)\n",
    "print(type(a))"
   ]
  },
  {
   "cell_type": "code",
   "execution_count": null,
   "id": "6e127dc0",
   "metadata": {},
   "outputs": [],
   "source": [
    "#factorial function\n",
    "\n",
    "def fact(x):\n",
    "   a = 1 #initialize a\n",
    "   for i in range(1,x+1):\n",
    "        a = a * i\n",
    "   print(x,\"! = \",a)\n",
    "   return a \n",
    "\n",
    "fact(5)\n",
    "fact(-5)"
   ]
  },
  {
   "cell_type": "code",
   "execution_count": null,
   "id": "1676416f",
   "metadata": {},
   "outputs": [],
   "source": [
    "def fact(x):\n",
    "    if not isinstance(x, int) or x < 0:    #if parameter of function is noninteger or negative \n",
    "        print(\"Input must be a non-negative integer\")\n",
    "        return None\n",
    "\n",
    "    a = 1\n",
    "    for i in range(1, x + 1):\n",
    "        a *= i\n",
    "    print(x, \"! =\", a)\n",
    "    return a\n"
   ]
  },
  {
   "cell_type": "code",
   "execution_count": null,
   "id": "9ac4c9ee",
   "metadata": {},
   "outputs": [],
   "source": [
    "fact(-5)"
   ]
  },
  {
   "cell_type": "code",
   "execution_count": null,
   "id": "77968e14",
   "metadata": {},
   "outputs": [],
   "source": [
    "x = input (\"give the width of rectangle\")\n",
    "y = input (\"give the height of rectangle\")\n",
    "if not isinstance(x,y, float) or x,y < 0:    #if parameter of function is non float or negative \n",
    "        print(\"Input must be a non-negative integer\")\n",
    "        return None"
   ]
  },
  {
   "cell_type": "code",
   "execution_count": null,
   "id": "b4f11010",
   "metadata": {},
   "outputs": [],
   "source": [
    "x = input(\"input the width of the rectangle: \")\n",
    "y = input(\"input the height of the rectangle: \")\n",
    "\n",
    "try:\n",
    "    x = float(x)\n",
    "    y = float(y)\n",
    "    if x < 0 or y < 0:\n",
    "        \n",
    "        print(\"Inputs must be non-negative numbers.\")\n",
    "    else:\n",
    "       print(\"area of rectangle: \",x*y )\n",
    "except ValueError:\n",
    "    print(\"Inputs must be numbers.\")\n"
   ]
  },
  {
   "cell_type": "code",
   "execution_count": null,
   "id": "14c6870f",
   "metadata": {},
   "outputs": [],
   "source": [
    "import math \n",
    "a = float(input(\"enter the bottom of the first line: \"))\n",
    "b = float(input(\"enter the height of the second line: \"))\n",
    "\n",
    "c = math.sqrt(a**2 + b**2)\n",
    "print(\"the length of hypotenuse is the: \",c )\n"
   ]
  },
  {
   "cell_type": "code",
   "execution_count": null,
   "id": "53f9ae29",
   "metadata": {},
   "outputs": [],
   "source": [
    "import math \n",
    "r = float(input(\"enter the raidus of circle\"))\n",
    "area = math.pi*r**2\n",
    "print(\"area of circle = \",area)\n",
    "\n",
    "circumference = 2*math.pi*r\n",
    "print(\"circumference = \",circumference)"
   ]
  },
  {
   "cell_type": "code",
   "execution_count": null,
   "id": "5bb781e8",
   "metadata": {},
   "outputs": [],
   "source": [
    "print(\"a  n   a**n\")\n",
    "for i in range(2,7):  \n",
    "    \n",
    "    print(str(i) + \"**2 =\",i**2)"
   ]
  },
  {
   "cell_type": "code",
   "execution_count": null,
   "id": "d2f48c91",
   "metadata": {},
   "outputs": [],
   "source": [
    "a = int(input(\"enter an integer \"))\n",
    "print(\"is the integer odd?::\",a % 2 != 0)"
   ]
  },
  {
   "cell_type": "code",
   "execution_count": null,
   "id": "1728fa4a",
   "metadata": {},
   "outputs": [],
   "source": [
    "a = int(input(\"enter an integer \"))\n",
    "print(\"is the input an even integer between 0 or 100 ::\",a % 2 == 0 and a <= 100 and a >= 0)"
   ]
  },
  {
   "cell_type": "code",
   "execution_count": null,
   "id": "887b943c",
   "metadata": {},
   "outputs": [],
   "source": [
    "a = int(input(\"enter an integer \"))\n",
    "print(\"is hundredth digit of the integer 3 ?:\",a//100 == 3)"
   ]
  },
  {
   "cell_type": "code",
   "execution_count": null,
   "id": "9a9b56f6",
   "metadata": {},
   "outputs": [],
   "source": [
    "a = int(input(\"enter an integer \"))\n",
    "print(\"is the number a multiple of 5? :\",a % 5 == 0)"
   ]
  },
  {
   "cell_type": "markdown",
   "id": "c06c0a36",
   "metadata": {},
   "source": [
    "***Unit 6-7-8-9 Paper and Pair Codings Examples"
   ]
  },
  {
   "cell_type": "code",
   "execution_count": null,
   "id": "70bd1a26",
   "metadata": {},
   "outputs": [],
   "source": [
    "def func(x):\n",
    "    pass\n",
    "func(5)"
   ]
  },
  {
   "cell_type": "code",
   "execution_count": null,
   "id": "8a493568",
   "metadata": {},
   "outputs": [],
   "source": [
    "game_score = int(input(\"enter the game score: \"))\n",
    "\n",
    "if game_score >= 1500:\n",
    "    print(\"you are a master\")\n",
    "else:\n",
    "    print(\"you are nothing!\")"
   ]
  },
  {
   "cell_type": "code",
   "execution_count": null,
   "id": "932e42ce",
   "metadata": {},
   "outputs": [],
   "source": [
    "x = int(input(\"enter an integer between -100 and 100\"))\n",
    "\n",
    "if x>0:\n",
    "    print(\"x is a natural number!\")\n",
    "else:\n",
    "    print(\"x = \",x)"
   ]
  },
  {
   "cell_type": "code",
   "execution_count": null,
   "id": "5f86f649",
   "metadata": {},
   "outputs": [],
   "source": [
    "num1, num2, num3 = input(\"enter three number separated by,:\").split(\",\")\n",
    "num1, num2, num3 = int(num1), int(num2), int(num3)\n",
    "print(num1, num2, num3)"
   ]
  },
  {
   "cell_type": "code",
   "execution_count": null,
   "id": "8d5ae45c",
   "metadata": {},
   "outputs": [],
   "source": [
    "age = int(input(\"enter the age: \"))\n",
    "if age  > 20:\n",
    "    print(\"Adult\")\n",
    "elif age >= 10:\n",
    "    print(\"Young\")\n",
    "else:\n",
    "    print(\"Kid\")"
   ]
  },
  {
   "cell_type": "code",
   "execution_count": null,
   "id": "0c042347",
   "metadata": {},
   "outputs": [],
   "source": [
    "vowels = \"aeiou\"\n",
    "letter = input(\"enter a letter: \")\n",
    "\n",
    "if letter in vowels:\n",
    "    print(letter,\"is a vowel\")\n",
    "else:\n",
    "    print(letter,\"is a consonant\")"
   ]
  },
  {
   "cell_type": "code",
   "execution_count": null,
   "id": "4f38cd36",
   "metadata": {},
   "outputs": [],
   "source": [
    "a,b = input(\"enter the number and separate them by ,  \").split(\",\")\n",
    "a,b = int(a), int(b)\n",
    "\n",
    "if a % b == 0:\n",
    "    print(a,\"is a multiple of\",b)\n",
    "else:\n",
    "    print(a,\"is not a multiple of\",b)\n",
    "    "
   ]
  },
  {
   "cell_type": "code",
   "execution_count": null,
   "id": "b03a112b",
   "metadata": {},
   "outputs": [],
   "source": [
    "print(\"1) Addition  2) Subtraction  3) Multiplication  4) Division \")\n",
    "op_numb = int(input(\"Enter the desired number of operation: \"))\n",
    "a,b = input(\"Enter two numbers for operation and separate them by , :\").split(\",\")\n",
    "a,b = int(a), int(b)\n",
    "\n",
    "if op_numb == 1:\n",
    "    print(f\"{a} + {b} = \",a+b)\n",
    "elif op_numb == 2:\n",
    "    print(f\"{a} - {b} ={a-b}\")\n",
    "elif op_numb == 3:\n",
    "    print(f\"{a} * {b} ={a*b}\")\n",
    "elif op_numb == 4:\n",
    "    print(f\"{a} / {b} ={a/b}\")\n"
   ]
  },
  {
   "cell_type": "code",
   "execution_count": null,
   "id": "5e3dbf57",
   "metadata": {},
   "outputs": [],
   "source": [
    "x, y  = input(\"Enter x,y coordinates and separate them , :\").split(\",\") #take two valueand assign them x and  y \n",
    "x, y = int(x), int(y)  #convert hem integer\n",
    "\n",
    "if x>0 and y>0 :   #check  for x and y values \n",
    "    print(\"In the first quadrant\")\n",
    "elif x<0 and y>0 :\n",
    "    print(\"In the second quadrant\")\n",
    "elif x<0 and y<0 :\n",
    "    print(\"In the third quadrant\")\n",
    "else:\n",
    "    print(\"In the fourth quadrant\")"
   ]
  },
  {
   "cell_type": "code",
   "execution_count": null,
   "id": "487eb50e",
   "metadata": {},
   "outputs": [],
   "source": [
    "print(\"Welcome to Yummy Restaurant,here is the menu.\")\n",
    "print(\" -Burger(enter b)\\n -Chicken(enter c)\\n -Pizza(enter p)\")\n",
    "\n",
    "choosen_menu = input(\"Please choose one of the menu(b,c,p),but just one please!\\n\")\n",
    "\n",
    "if choosen_menu == \"c\":\n",
    "    print(\"You chooes chiccccckkkenn!!!\")\n",
    "elif choosen_menu == \"b\":\n",
    "    print(\"You chooes buuurgerrrrr!!!\")\n",
    "else:\n",
    "    print(\"You choose pizzzzza!!!\")"
   ]
  },
  {
   "cell_type": "code",
   "execution_count": null,
   "id": "2367b732",
   "metadata": {},
   "outputs": [],
   "source": [
    "st = \"Hello\"\n",
    "print(list(st))"
   ]
  },
  {
   "cell_type": "code",
   "execution_count": null,
   "id": "c6100a61",
   "metadata": {},
   "outputs": [],
   "source": [
    "st = \"Hello\"\n",
    "\n",
    "for ch in st :\n",
    "    print(ch,end = \"   \")"
   ]
  },
  {
   "cell_type": "code",
   "execution_count": null,
   "id": "61de55c5",
   "metadata": {},
   "outputs": [],
   "source": [
    "bts = [\"V\",\"J-Hope\",\"RM\",\"Jungkook\",\"Jin\",\"Jimin\",\"Suga\"]\n",
    "\n",
    "for i in bts:\n",
    "    print(i)\n",
    "    "
   ]
  },
  {
   "cell_type": "code",
   "execution_count": null,
   "id": "875ad8f5",
   "metadata": {},
   "outputs": [],
   "source": [
    "s = 0 # define a summ variable\n",
    "for i in range(101):\n",
    "    s += i\n",
    "print(f\"sum of integers from 1 to 100 is: {s}\")"
   ]
  },
  {
   "cell_type": "code",
   "execution_count": null,
   "id": "a6ff16e0",
   "metadata": {},
   "outputs": [],
   "source": [
    "s = 0 # define a summ variable\n",
    "for i in range(2,102,2):\n",
    "    s += i\n",
    "print(f\"sum of even integers from 0 to 100 is: {s}\")"
   ]
  },
  {
   "cell_type": "code",
   "execution_count": null,
   "id": "341cb717",
   "metadata": {},
   "outputs": [],
   "source": [
    "s = 0 # define a summ variable\n",
    "for i in range(1,100,2):\n",
    "    s += i\n",
    "print(f\"sum of odd integers from 0 to 100 is: {s}\")"
   ]
  },
  {
   "cell_type": "code",
   "execution_count": null,
   "id": "1157907a",
   "metadata": {},
   "outputs": [],
   "source": [
    "n = 5 #int(input(\"enter the number n: \"))\n",
    "\n",
    "for i in range(1,6):\n",
    "    print()\n",
    "    for j in range(1,6):\n",
    "        if i % 2 == 1:\n",
    "            print((i-1)*5+j,end = \"     \")\n",
    "        else:\n",
    "            print(i*5-j+1,end = \"     \")\n",
    "        \n",
    "       \n",
    "    \n",
    "    \n",
    "   "
   ]
  },
  {
   "cell_type": "code",
   "execution_count": null,
   "id": "fc7eab21",
   "metadata": {},
   "outputs": [],
   "source": [
    "n = int(input(\"Enter the number of row:\"))\n",
    "\n",
    "\n",
    "for i in range(1, n + 1):\n",
    "    print() \n",
    "    for j in range(1, n + 1):\n",
    "        if i % 2 == 1:\n",
    "            # For odd.th rows,numbers will increase to the right\n",
    "            print(\"{:>4}\".format((i - 1) * n + j), end=\"\")  #allocate at least 4 character for any number \n",
    "        else:\n",
    "            # For even.th rows,numbers will increase to right \n",
    "            print(\"{:>4}\".format(i * n - j + 1), end=\"\")\n",
    "\n"
   ]
  },
  {
   "cell_type": "code",
   "execution_count": null,
   "id": "33229cba",
   "metadata": {},
   "outputs": [],
   "source": [
    "i = 1\n",
    "while i<10:\n",
    "    print(f\"2*{i} = {2*i}\")\n",
    "    i += 1"
   ]
  },
  {
   "cell_type": "code",
   "execution_count": null,
   "id": "3ebc9e74",
   "metadata": {},
   "outputs": [],
   "source": [
    "i = 1\n",
    "\n",
    "\n",
    "while i < 10:\n",
    "    j = 1  #it assigned j= 1 when the upper while loop  ends  \n",
    "    while j < 10:\n",
    "        print(f\"{i}*{j} = {i*j}\")\n",
    "        j += 1\n",
    "    i += 1"
   ]
  },
  {
   "cell_type": "markdown",
   "id": "dbebc57a",
   "metadata": {},
   "source": [
    "### UNİT 9 "
   ]
  },
  {
   "cell_type": "code",
   "execution_count": null,
   "id": "d8b08a7a",
   "metadata": {},
   "outputs": [],
   "source": [
    "numb = input(\"Enter the you want to check: \")\n",
    "l = len(numb) #length of number\n",
    "t =True\n",
    "for i in range(l):\n",
    "    if numb[i] != numb[l-1-i]:\n",
    "        t= False\n",
    "if t:\n",
    "    print(f\"{numb} is a palindrom number \") #if t doesnt change means that the number is palindrom \n",
    "else:\n",
    "    print(f\"{numb} is not a palindrom number \")\n",
    "\n",
    "    \n",
    "        "
   ]
  },
  {
   "cell_type": "code",
   "execution_count": null,
   "id": "8c5b0362",
   "metadata": {},
   "outputs": [],
   "source": [
    "import random as rand \n",
    "numb = rand.randint(1,100)\n",
    "t_t = 0\n",
    "\n",
    "while True:\n",
    "    takenn = int(input(\"enter the number you guess! \"))\n",
    "    if takenn>numb:\n",
    "         t_t += 1\n",
    "         print(\"Higher\")\n",
    "            \n",
    "    elif takenn<numb:\n",
    "         t_t += 1\n",
    "         print(\"Lower!\")\n",
    "    else:\n",
    "         t_t += 1\n",
    "         print(f\"Congratulations you found in {t_t} total try \")\n",
    "         break\n"
   ]
  },
  {
   "cell_type": "markdown",
   "id": "44874412",
   "metadata": {},
   "source": [
    "***CHAPTER2***"
   ]
  },
  {
   "cell_type": "code",
   "execution_count": null,
   "id": "68e10d8f",
   "metadata": {},
   "outputs": [],
   "source": [
    "person1 = [\"david\",20,1,180,0]\n",
    "person2 = [\"yasin\",24,1,190]\n",
    "\n",
    "print(person1[1::-1])\n",
    "print(person1[::-1])\n",
    "print(person1[1::-1])\n"
   ]
  },
  {
   "cell_type": "code",
   "execution_count": null,
   "id": "36f4ccdb",
   "metadata": {},
   "outputs": [],
   "source": [
    "import math \n",
    "\n",
    "def iss_prime(x):  # define a function that controls an integer is prime or not \n",
    "    prime_value = True  # initially we accept all the integer as prime for a moment\n",
    "    for j in range(2,math.ceil(math.sqrt(x))+1):\n",
    "        if x != 2 and x % j == 0: # if the condition satisfied we change our first acceptance\n",
    "            prime_value = False\n",
    "            \n",
    "    return prime_value\n",
    "\n",
    "        \n",
    "    \n",
    "a = []  # define an empty list to add primes\n",
    "for i in range(2,10):\n",
    "    if iss_prime(i):\n",
    "        a.append(i)\n",
    "print(f\"1**st element of prime list: {a[0]} \" )\n",
    "\n",
    "        "
   ]
  },
  {
   "cell_type": "code",
   "execution_count": null,
   "id": "e8cc8159",
   "metadata": {},
   "outputs": [],
   "source": [
    "prime_number = [2,3,5,7]\n",
    "print(\"Prime numbers : \",prime_number)\n",
    "prime_number.append(11)\n",
    "print(\"Prime numbers after addition : \",prime_number)"
   ]
  },
  {
   "cell_type": "code",
   "execution_count": null,
   "id": "feeb2915",
   "metadata": {},
   "outputs": [],
   "source": [
    "list_1 = [3,5,7]\n",
    "list_2 = [2,3,4,5,6]\n",
    "\n",
    "for i in list_1:\n",
    "    for j in list_2:\n",
    "        print(f\"{i} * {j} = {i*j}\")"
   ]
  },
  {
   "cell_type": "code",
   "execution_count": null,
   "id": "48058642",
   "metadata": {},
   "outputs": [],
   "source": [
    "import math\n",
    "s_list = [\"abc\",\"bcd\",\"bcdefg\",\"abba\",\"cddc\",\"opo\"]\n",
    "\n",
    "shortest = math.inf   #lets assign the worst case scenario to shortets which is shortest is the biggest:))\n",
    "\n",
    "for el in s_list:\n",
    "    if shortest > len(el):\n",
    "        shortest = len(el)\n",
    "    \n",
    "\n",
    "for j in s_list:\n",
    "    if len(j) == shortest:\n",
    "        print(f\"shortes string : {j}\")\n",
    "        break \n",
    "    \n",
    "    \n",
    "    \n",
    "\n",
    "\n"
   ]
  },
  {
   "cell_type": "code",
   "execution_count": null,
   "id": "8462f61d",
   "metadata": {},
   "outputs": [],
   "source": [
    "import math\n",
    "s_list = [\"abc\",\"bcd\",\"bcdefg\",\"abba\",\"cddc\",\"opo\"]\n",
    "\n",
    "longest = 0  #lets assign the best case scenario to longest  which is longest is the smallest[:)))::2)]\n",
    "\n",
    "for el in s_list:\n",
    "    if longest < len(el):\n",
    "        longest = len(el)\n",
    "    \n",
    "\n",
    "for j in s_list:\n",
    "    if len(j) == longest:\n",
    "        print(f\"longest string : {j}\")\n",
    "        break "
   ]
  },
  {
   "cell_type": "code",
   "execution_count": null,
   "id": "1c75a8de",
   "metadata": {},
   "outputs": [],
   "source": [
    "import math\n",
    "s_list = [\"abc\",\"bcd\",\"bcdefg\",\"abba\",\"cddc\",\"opo\"]\n",
    "\n",
    "shortest = math.inf   #lets assign the worst case scenario to shortets which is shortest is the biggest:))\n",
    "\n",
    "for el in s_list:\n",
    "    if shortest > len(el):\n",
    "        shortest = len(el)\n",
    "    \n",
    "shortest_els = []\n",
    "\n",
    "for j in s_list:\n",
    "    if len(j) == shortest:\n",
    "        shortest_els.append(j)\n",
    "        \n",
    "print(f\"Shortest strings: {', '.join(shortest_els)}\")\n",
    "        \n",
    "\n",
    "  \n",
    "        "
   ]
  },
  {
   "cell_type": "code",
   "execution_count": null,
   "id": "f45877f6",
   "metadata": {},
   "outputs": [],
   "source": [
    "print(\"di\\\n",
    "yor\\\n",
    "  idim\")"
   ]
  },
  {
   "cell_type": "code",
   "execution_count": null,
   "id": "8892ce6b",
   "metadata": {},
   "outputs": [],
   "source": [
    "capital_dic ={\"Korea\":\"Seoul\", \"China\":\"Beijing\",\"USA\":\"Washington DC\"}\n",
    "capital_dic[\"Korea\"]\n",
    "\n",
    "\n",
    "\n",
    "for key in capital_dic:\n",
    "    print(\"key:{}\\nvalue:{}\".format(key,capital_dic[key]))\n",
    "\n",
    "\n",
    "\n",
    "    "
   ]
  },
  {
   "cell_type": "code",
   "execution_count": null,
   "id": "6da00e75",
   "metadata": {},
   "outputs": [],
   "source": [
    "fruits_dic = {\"apple\":500,\"banana\":4000, \"grape\":5300, \"melon\":6500}\n",
    "# type(fruits)\n",
    "\n",
    "for key in fruits_dic:\n",
    "    print(\"The of {} is {} KRW\".format(key,fruits_dic[key]))\n",
    "\n"
   ]
  },
  {
   "cell_type": "code",
   "execution_count": null,
   "id": "923e1802",
   "metadata": {},
   "outputs": [],
   "source": [
    "for i in range(8,50):\n",
    "    print(\"{:10d} {:20d}    {:1d}\".format(i,i**2,i**3))"
   ]
  },
  {
   "cell_type": "code",
   "execution_count": null,
   "id": "c1ca63ce",
   "metadata": {},
   "outputs": [],
   "source": [
    "fruits_dic = {\"apple\":500,\"banana\":4000, \"grape\":5300, \"melon\":6500}\n",
    "# type(fruits)\n",
    "\n",
    "print(fruits_dic.keys())\n",
    "\n",
    "def is_inn(x):\n",
    "          if x in fruits_dic:\n",
    "                                     print(\"{} is in fruit_dic\".format(\"apple\"))\n",
    "          else:\n",
    "            print(\"{} is not in fruit_dic\".format(x))\n",
    "            \n",
    "is_inn(\"apple\")\n",
    "is_inn(\"mango\")\n"
   ]
  },
  {
   "cell_type": "code",
   "execution_count": null,
   "id": "b8402e81",
   "metadata": {},
   "outputs": [],
   "source": [
    "import math \n",
    "\n",
    "def iss_prime(x):  # define a function that controls an integer is prime or not \n",
    "    prime_value = True  # initially we accept all the integer as prime for a moment\n",
    "    for j in range(2,math.ceil(math.sqrt(x))+1):\n",
    "        if x != 2 and x % j == 0: # if the condition satisfied we change our first acceptance\n",
    "            prime_value = False\n",
    "            \n",
    "    return prime_value\n",
    "\n",
    "        \n",
    "    \n",
    "a = []  # define an empty list to add primes\n",
    "for i in range(2,10):\n",
    "    if iss_prime(i):\n",
    "        a.append(i)\n",
    "print(f\"1**st element of prime list: {a[0]} \" )"
   ]
  },
  {
   "cell_type": "code",
   "execution_count": null,
   "id": "3c3069da",
   "metadata": {},
   "outputs": [],
   "source": [
    "import math \n",
    "\n",
    "def iss_prime(x):  # define a function that controls an integer is prime or not \n",
    "    prime_value = True  # initially we accept all the integer as prime for a moment\n",
    "    for j in range(2,math.ceil(math.sqrt(x))+1):\n",
    "        if x != 2 and x % j == 0: # if the condition satisfied we change our first acceptance\n",
    "            prime_value = False\n",
    "            \n",
    "    return prime_value\n",
    "\n",
    "        \n",
    "    \n",
    "a = []  # define an empty list to add primes\n",
    "for i in range(2,10):\n",
    "    if iss_prime(i):\n",
    "        a.append(i)\n",
    "print(f\"1**st element of prime list: {a[0]} \" )"
   ]
  },
  {
   "cell_type": "code",
   "execution_count": null,
   "id": "ce8a115b",
   "metadata": {},
   "outputs": [],
   "source": [
    "t1 = \"a\",\"b\",\"c\"\n",
    "t2 = (\"a\",\"b\",\"c\")\n",
    "t3 = (\"d\",\"e\")\n",
    "\n",
    "print(t1 == t2)\n",
    "print(t1>t3)\n",
    "print(t1+t3)\n",
    "print([t1+t3])\n",
    "print([t1+t2])\n",
    "\n",
    "a= [t1+t2]\n",
    "print(type(a))"
   ]
  },
  {
   "cell_type": "code",
   "execution_count": null,
   "id": "cd700176",
   "metadata": {},
   "outputs": [],
   "source": [
    "daily_sales = (100, 121, 120, 130, 140, 120, 122, 123, 190, 125)\n",
    "\n",
    "times = 0\n",
    "for i in range(len(daily_sales)-1):\n",
    "    if daily_sales[i] > daily_sales[i+1]:\n",
    "        times += 1\n",
    "print(\"In the past {} days, {} days had reduced sales compared to the previous day\".format(len(daily_sales),times))"
   ]
  },
  {
   "cell_type": "code",
   "execution_count": null,
   "id": "2bd6d752",
   "metadata": {},
   "outputs": [],
   "source": [
    "gt = tuple(input(\"Enter tuple elements separated by space: \").split(\" \"))  #tkae the tupple elements from the user\n",
    "\n",
    "gt = sorted(gt)  #sort the tupple\n",
    "\n",
    "count_gt = []  #create a list then add them how many times appears which element\n",
    "for i in gt:\n",
    "    count_gt.append(gt.count(i))  #which elements how many times appear\n",
    "\n",
    "mct = max(count_gt)  #most common times\n",
    "\n",
    "for j in range(len(gt)):\n",
    "    if count_gt[-1-j] == mct:  #look for the elemnts whose counts = most common times and the biggest one\n",
    "        break\n",
    "    \n",
    "print(\"The most frequent element: {}\".format(gt[-1-j]))\n",
    "        \n",
    "         \n"
   ]
  },
  {
   "cell_type": "code",
   "execution_count": null,
   "id": "6b99ba76",
   "metadata": {},
   "outputs": [],
   "source": [
    "#i couldnt do that lets try later chapter2 page:208\n",
    "\n",
    "gt = tuple(input(\"Enter tuple elements separated by comma: \").split(\",\"))  #tkae the tupple elements from the user\n",
    "\n",
    "listgt = list(gt)\n",
    "a=()\n",
    "print(f\"Given tuples: {[gt]} \")\n",
    "for i in listgt:\n",
    "    print(i)\n",
    "    if len(i) == 0 :\n",
    "        print(i)    \n",
    "\n"
   ]
  },
  {
   "cell_type": "code",
   "execution_count": null,
   "id": "12e03f4a",
   "metadata": {},
   "outputs": [],
   "source": [
    "#jagged list example\n",
    "a = []\n",
    "for i in range(5):\n",
    "    listt = []\n",
    "    for j in range(i+1):\n",
    "        listt.append(j)\n",
    "    a.append(listt)\n",
    "a"
   ]
  },
  {
   "cell_type": "code",
   "execution_count": null,
   "id": "d67daaad",
   "metadata": {},
   "outputs": [],
   "source": [
    "#jagged list example\n",
    "a = []\n",
    "for i in range(5):\n",
    "    listt = []\n",
    "    for j in range(i+1):\n",
    "        listt.append(j)\n",
    "        print(j,end = \" \")\n",
    "    a.append(listt)\n",
    "    print()\n",
    "print(a)"
   ]
  },
  {
   "cell_type": "code",
   "execution_count": null,
   "id": "78bf2e1e",
   "metadata": {},
   "outputs": [],
   "source": [
    "a =  []\n",
    "\n",
    "for i in range(0,4):\n",
    "    listt = []\n",
    "    for j in range(4):\n",
    "        listt.append(j+i*4+1)\n",
    "        print(j+i*4+1,end = \" \")\n",
    "    a.append(listt)\n",
    "    print()"
   ]
  },
  {
   "cell_type": "code",
   "execution_count": null,
   "id": "4161e568",
   "metadata": {},
   "outputs": [],
   "source": [
    "list_array = [[10, 20], [30, 40], [50, 60]]\n",
    "list_array[1][0]"
   ]
  },
  {
   "cell_type": "code",
   "execution_count": null,
   "id": "d28bb794",
   "metadata": {},
   "outputs": [],
   "source": [
    "[0]*2"
   ]
  },
  {
   "cell_type": "code",
   "execution_count": null,
   "id": "63d71b62",
   "metadata": {},
   "outputs": [],
   "source": [
    "list1 = [[0]*i for i in range(6)]\n",
    "print(len(list1[0]))\n",
    "list1\n"
   ]
  },
  {
   "cell_type": "code",
   "execution_count": null,
   "id": "9b179573",
   "metadata": {},
   "outputs": [],
   "source": [
    "#chapter 2  page:255"
   ]
  },
  {
   "cell_type": "code",
   "execution_count": null,
   "id": "27d1962d",
   "metadata": {},
   "outputs": [],
   "source": [
    "n = int(input(\"enter the integer\"))\n",
    "\n",
    "a = []\n",
    "\n",
    "for i in range(n):\n",
    "    b = []\n",
    "    for j in range(n):\n",
    "        if (i+j) % 2 == 0:\n",
    "            b.append(1)\n",
    "        else:\n",
    "            b.append(0)\n",
    "        print(b[j],end = \" \")\n",
    "    print()\n",
    "\n",
    "    \n",
    "\n",
    "\n"
   ]
  },
  {
   "cell_type": "markdown",
   "id": "5a99350b",
   "metadata": {},
   "source": [
    "***UNİT14 DİCTİONARY METHOD*** \n"
   ]
  },
  {
   "cell_type": "code",
   "execution_count": null,
   "id": "14470fcc",
   "metadata": {},
   "outputs": [],
   "source": [
    "str1 = [\"a\",\"b\",\"c\",\"b\",\"a\",\"b\",\"c\"]\n",
    "dic = {}\n",
    "for ch in str1:\n",
    "    if ch not in dic:\n",
    "        dic[ch] = 0\n",
    "    dic[ch] += 1\n",
    "print(\"alphabet counting: \",dic)"
   ]
  },
  {
   "cell_type": "code",
   "execution_count": null,
   "id": "7e496569",
   "metadata": {},
   "outputs": [],
   "source": [
    "str1 = [\"a\",\"b\",\"c\",\"b\",\"a\",\"b\",\"c\"]\n",
    "dic = {}\n",
    "for ch in str1:\n",
    "    dic.setdefault(ch,0)\n",
    "    dic[ch] += 1\n",
    "    print(list(dic.items()))\n",
    "\n",
    "print(\"alphabet counting: \",dic)\n",
    "        \n",
    "\n",
    "    \n"
   ]
  },
  {
   "cell_type": "code",
   "execution_count": null,
   "id": "baf2b795",
   "metadata": {},
   "outputs": [],
   "source": [
    "person_dict = {\"Last Name\":\"Doe\", \"First Name\":\"David\", \"Company\":\"Samsung\"}\n",
    "\n",
    "for a,b in person_dict.items():\n",
    "    print(a,\":\",b)"
   ]
  },
  {
   "cell_type": "code",
   "execution_count": null,
   "id": "65a63514",
   "metadata": {},
   "outputs": [],
   "source": [
    "items = {\"Coffee\": 7, \"Pen\":3, \"Paper cup\": 2, \"Milk\": 1, \"Coke\": 4, \"Book\":5} \n",
    "\n",
    "i = input(\"Enter the name of the item: \")\n",
    "\n",
    "if i in items:\n",
    "    print(items[i])\n"
   ]
  },
  {
   "cell_type": "code",
   "execution_count": null,
   "id": "64e3b809",
   "metadata": {},
   "outputs": [],
   "source": [
    "for i in items.keys():\n",
    "    print(items[i],end = \"     \")"
   ]
  },
  {
   "cell_type": "code",
   "execution_count": null,
   "id": "8c601109",
   "metadata": {},
   "outputs": [],
   "source": [
    "for i,j in items.items():\n",
    "    print(i,\":\",j,end = \"     \")"
   ]
  },
  {
   "cell_type": "code",
   "execution_count": null,
   "id": "86c7e12f",
   "metadata": {},
   "outputs": [],
   "source": [
    "a_string = \"Actions \\n\\t speak louder than words\"\n",
    "print(a_string)\n",
    "a_string\n"
   ]
  },
  {
   "cell_type": "code",
   "execution_count": null,
   "id": "86d3f0fc",
   "metadata": {},
   "outputs": [],
   "source": [
    "s = \"ABCDEFGHIJKLMNOPQRSTUVWXYZ\"\n",
    "s.endswith(\"C\",1,3)"
   ]
  },
  {
   "cell_type": "code",
   "execution_count": null,
   "id": "7fde487d",
   "metadata": {},
   "outputs": [],
   "source": [
    "items = {\"Coffee\": 7, \"Pen\":3, \"Paper cup\": 2, \"Milk\": 1, \"Coke\": 4, \"Book\":5} \n",
    "\n",
    "\n",
    "while True:\n",
    "    print(\"Select menu\")\n",
    "    menu = int(input(\"1)Check Stock 2)Warehousing 3)Release 4)Exit : \"))\n",
    "\n",
    "    for i in range(1,5):\n",
    "        if i == menu:\n",
    "            item = input(\"Enter item: \")\n",
    "            print(\"Stock:\",items[item])\n",
    "            break\n",
    "        elif i == menu:\n",
    "            print(\"I dont know what to do!\")\n",
    "            break \n",
    "        elif i == menu:\n",
    "            print(\"I dont know what to do!\")\n",
    "            break\n",
    "        elif i == menu:\n",
    "            print(\"Program Exited\")\n",
    "            break\n",
    "            \n"
   ]
  },
  {
   "cell_type": "code",
   "execution_count": null,
   "id": "ce8ddb39",
   "metadata": {},
   "outputs": [],
   "source": [
    "items = {\"Coffee\": 7, \"Pen\":3, \"Paper cup\": 2, \"Milk\": 1, \"Coke\": 4, \"Book\":5} \n",
    "\n",
    "\n",
    "while True:\n",
    "    print(\"Select menu\")\n",
    "    menu = int(input(\"1)Check Stock 2)Warehousing 3)Release 4)Exit : \"))\n",
    "    \n",
    "    if menu == 1:\n",
    "            item = input(\"Enter item: \")\n",
    "            print(\"Stock:\",items[item])\n",
    "            \n",
    "    elif menu == 2:\n",
    "            print(\"I dont know what to do!\")\n",
    "             \n",
    "    elif menu == 3:\n",
    "            print(\"I dont know what to do!\")\n",
    "            \n",
    "    elif menu == 4:\n",
    "            print(\"Program Exited\")\n",
    "            break\n",
    "\n",
    "    \n",
    "            \n"
   ]
  },
  {
   "cell_type": "code",
   "execution_count": null,
   "id": "ce72dfd2",
   "metadata": {},
   "outputs": [],
   "source": [
    "student_tup = ((\"211101\", \"David Doe\", \"010-1234-4500\"), (\"211102\", \"John Smith\", \"010-2230-6540\"), \n",
    "(\"211103\", \" Jane Carter\", \"010-3232-7788\") )\n",
    "\n",
    "stud_dic = {student[0]: [student[1],student[2]] for student in student_tup}\n",
    "\n",
    "stud_dic\n",
    "    "
   ]
  },
  {
   "cell_type": "code",
   "execution_count": null,
   "id": "e5562c34",
   "metadata": {},
   "outputs": [],
   "source": [
    "s = input(\"Student id number: \")\n",
    "\n",
    "if s in stud_dic.keys(): \n",
    "    print(f\"Name:{stud_dic[s][0]} \\nPhone Number:{stud_dic[s][1]}\") \n",
    "          "
   ]
  },
  {
   "cell_type": "code",
   "execution_count": null,
   "id": "a31b0774",
   "metadata": {},
   "outputs": [],
   "source": [
    "s = input(\"Enter student id number: \")\n",
    "\n",
    "if s in stud_dic.keys(): \n",
    "    print(f\"{s} is {stud_dic[s][0]} and Phone Number is {stud_dic[s][1]}\") "
   ]
  },
  {
   "cell_type": "code",
   "execution_count": null,
   "id": "65b397cb",
   "metadata": {},
   "outputs": [],
   "source": [
    "my_list = [(1,2),(4,5),(2,3),(5,7),(7,8)]\n",
    "ttpl = tuple(map(int, input(\"Enter tuple elements separated by space: \").split()))\n",
    "\n",
    "if ttpl in my_list:\n",
    "    a = my_list.index(ttpl)\n",
    "    print(f\"There is {ttpl} a the {a+1}.th\")\n"
   ]
  },
  {
   "cell_type": "markdown",
   "id": "f090c681",
   "metadata": {},
   "source": [
    "end of the chapter 2...."
   ]
  },
  {
   "cell_type": "markdown",
   "id": "9abceb5c",
   "metadata": {},
   "source": [
    "***CHAPTER3***"
   ]
  },
  {
   "cell_type": "code",
   "execution_count": null,
   "id": "d2f49f77",
   "metadata": {},
   "outputs": [],
   "source": [
    "# Create a stack using a list\n",
    "stack = [1, 2, 3, 4, 5]\n",
    "\n",
    "# Pop the last element from the stack\n",
    "popped_item = stack.pop()\n",
    "\n",
    "# Print the popped item and the updated stack\n",
    "print(f\"Popped item: {popped_item}\")\n",
    "print(f\"Updated stack: {stack}\")\n"
   ]
  },
  {
   "cell_type": "code",
   "execution_count": null,
   "id": "26810ca1",
   "metadata": {},
   "outputs": [],
   "source": [
    "stack.append(89)\n",
    "stack"
   ]
  },
  {
   "cell_type": "code",
   "execution_count": 17,
   "id": "1b2d1887",
   "metadata": {},
   "outputs": [
    {
     "name": "stdout",
     "output_type": "stream",
     "text": [
      "ABCDEFGHIJKLMNOPQRSTUVWXYZ\n",
      "DEFGHIJKLMNOPQRSTUVWXYZABC\n"
     ]
    }
   ],
   "source": [
    "import string \n",
    "src_str = string.ascii_uppercase\n",
    "dst_str = src_str[3:] + src_str[:3]\n",
    "\n",
    "print(src_str)\n",
    "print(dst_str)"
   ]
  },
  {
   "cell_type": "code",
   "execution_count": 22,
   "id": "34016bfb",
   "metadata": {},
   "outputs": [
    {
     "name": "stdout",
     "output_type": "stream",
     "text": [
      "Enter a sentence:  ATTACK TONIGHT\n",
      "Encryptedtext:DWWDFN WRQLJKW\n"
     ]
    }
   ],
   "source": [
    "import string\n",
    "\n",
    "\n",
    "def cipher(a):\n",
    "    idx = src_str.index(a)\n",
    "    return dst_str[idx]\n",
    "\n",
    "\n",
    "\n",
    "src = input(\"Enter a sentence:  \")\n",
    "#src = \"ATTACK TONIGHT\"\n",
    "print(\"Encryptedtext:\",end = \"\")\n",
    "\n",
    "\n",
    "for ch in src:\n",
    "    if ch in src_str:\n",
    "        print(cipher(ch),end=\"\")\n",
    "    else:\n",
    "        print(ch,end=\"\")\n",
    "\n",
    "print()\n"
   ]
  },
  {
   "cell_type": "code",
   "execution_count": 25,
   "id": "1b710deb",
   "metadata": {},
   "outputs": [
    {
     "name": "stdout",
     "output_type": "stream",
     "text": [
      "Welcome.\n",
      "Welcome.\n"
     ]
    }
   ],
   "source": [
    "def my_greet():\n",
    "    print(\"Welcome.\")\n",
    "\n",
    "my_greet()\n",
    "my_greet()\n"
   ]
  },
  {
   "cell_type": "code",
   "execution_count": 32,
   "id": "bcfab5f9",
   "metadata": {},
   "outputs": [
    {
     "name": "stdout",
     "output_type": "stream",
     "text": [
      "The greater of 100 and 200 is:  200\n"
     ]
    }
   ],
   "source": [
    "def max2(m,n):\n",
    "    if m>n:\n",
    "        print(f\"The greater of {m} and {n} is: \",m)\n",
    "    elif m<n:\n",
    "        print(f\"The greater of {m} and {n} is: \",n)\n",
    "    else:\n",
    "        print(\"They are equall\")\n",
    "        \n",
    "max2(100,200)\n",
    "    "
   ]
  },
  {
   "cell_type": "code",
   "execution_count": 31,
   "id": "061c742b",
   "metadata": {},
   "outputs": [
    {
     "name": "stdout",
     "output_type": "stream",
     "text": [
      "The smallest of 100 and 200 is:  100\n"
     ]
    }
   ],
   "source": [
    "def min2(m,n):\n",
    "    if m<n:\n",
    "        print(f\"The smallest of {m} and {n} is: \",m)\n",
    "    elif m>n:\n",
    "        print(f\"The smallest of {m} and {n} is: \",n)\n",
    "    else:\n",
    "        print(\"They are equall\")\n",
    "        \n",
    "min2(100,200)"
   ]
  },
  {
   "cell_type": "code",
   "execution_count": 38,
   "id": "7dd1a8fa",
   "metadata": {},
   "outputs": [
    {
     "name": "stdout",
     "output_type": "stream",
     "text": [
      "1 miles is 1.61 kilometers\n",
      "2 miles is 3.22 kilometers\n",
      "3 miles is 4.83 kilometers\n",
      "4 miles is 6.44 kilometers\n",
      "5 miles is 8.05 kilometers\n"
     ]
    }
   ],
   "source": [
    "def miletokm(*numb):\n",
    "    for  i in numb:\n",
    "        print(f\"{i} miles is {i*1.61} kilometers\")\n",
    "\n",
    "\n",
    "miletokm(1,2,3,4,5)\n",
    "\n",
    "    "
   ]
  },
  {
   "cell_type": "code",
   "execution_count": 3,
   "id": "6cf5ff8a",
   "metadata": {},
   "outputs": [
    {
     "name": "stdout",
     "output_type": "stream",
     "text": [
      "10 degrees Celsius = 50.0 degrees Fahrenheit\n",
      "20 degrees Celsius = 68.0 degrees Fahrenheit\n",
      "30 degrees Celsius = 86.0 degrees Fahrenheit\n",
      "40 degrees Celsius = 104.0 degrees Fahrenheit\n",
      "50 degrees Celsius = 122.0 degrees Fahrenheit\n"
     ]
    },
    {
     "data": {
      "text/plain": [
       "[50.0, 68.0, 86.0, 104.0, 122.0]"
      ]
     },
     "execution_count": 3,
     "metadata": {},
     "output_type": "execute_result"
    }
   ],
   "source": [
    "def cel2fah(*celsius_values):\n",
    "    \n",
    "    \n",
    "    fahrenheit_values = []\n",
    "    \n",
    "    for celsius in celsius_values:\n",
    "        #fahrenheit = 1.8 * celsius + 32\n",
    "        fahrenheit_values.append(1.8 * celsius + 32)\n",
    "\n",
    "    for celsius, fahrenheit in zip(celsius_values, fahrenheit_values):\n",
    "        print(f\"{celsius} degrees Celsius = {fahrenheit} degrees Fahrenheit\")\n",
    "\n",
    "    return fahrenheit_values\n",
    "\n",
    "# Example usage\n",
    "cel2fah(10, 20, 30, 40, 50)"
   ]
  },
  {
   "cell_type": "code",
   "execution_count": null,
   "id": "5db043b2",
   "metadata": {},
   "outputs": [],
   "source": [
    "\n"
   ]
  },
  {
   "cell_type": "code",
   "execution_count": null,
   "id": "275d1ef6",
   "metadata": {},
   "outputs": [],
   "source": []
  },
  {
   "cell_type": "code",
   "execution_count": 18,
   "id": "4748d0a4",
   "metadata": {},
   "outputs": [
    {
     "data": {
      "text/plain": [
       "'D'"
      ]
     },
     "execution_count": 18,
     "metadata": {},
     "output_type": "execute_result"
    }
   ],
   "source": []
  },
  {
   "cell_type": "code",
   "execution_count": null,
   "id": "93acebd3",
   "metadata": {},
   "outputs": [],
   "source": []
  },
  {
   "cell_type": "code",
   "execution_count": null,
   "id": "10043050",
   "metadata": {},
   "outputs": [],
   "source": []
  },
  {
   "cell_type": "code",
   "execution_count": null,
   "id": "1a51d652",
   "metadata": {},
   "outputs": [],
   "source": []
  },
  {
   "cell_type": "code",
   "execution_count": null,
   "id": "d0a80d6c",
   "metadata": {},
   "outputs": [],
   "source": []
  },
  {
   "cell_type": "code",
   "execution_count": null,
   "id": "a3816bf8",
   "metadata": {},
   "outputs": [],
   "source": []
  },
  {
   "cell_type": "code",
   "execution_count": null,
   "id": "82315268",
   "metadata": {},
   "outputs": [],
   "source": []
  },
  {
   "cell_type": "code",
   "execution_count": null,
   "id": "aadc135f",
   "metadata": {},
   "outputs": [],
   "source": []
  },
  {
   "cell_type": "code",
   "execution_count": null,
   "id": "816215db",
   "metadata": {},
   "outputs": [],
   "source": []
  },
  {
   "cell_type": "code",
   "execution_count": null,
   "id": "dc24741c",
   "metadata": {},
   "outputs": [],
   "source": []
  },
  {
   "cell_type": "code",
   "execution_count": null,
   "id": "7d18b126",
   "metadata": {},
   "outputs": [],
   "source": []
  },
  {
   "cell_type": "code",
   "execution_count": null,
   "id": "52f173e5",
   "metadata": {},
   "outputs": [],
   "source": []
  },
  {
   "cell_type": "code",
   "execution_count": null,
   "id": "5647d66a",
   "metadata": {},
   "outputs": [],
   "source": []
  },
  {
   "cell_type": "code",
   "execution_count": null,
   "id": "04d49514",
   "metadata": {},
   "outputs": [],
   "source": []
  },
  {
   "cell_type": "code",
   "execution_count": null,
   "id": "d73bd443",
   "metadata": {},
   "outputs": [],
   "source": []
  },
  {
   "cell_type": "code",
   "execution_count": null,
   "id": "079ebcb3",
   "metadata": {},
   "outputs": [],
   "source": []
  },
  {
   "cell_type": "code",
   "execution_count": null,
   "id": "0911a063",
   "metadata": {},
   "outputs": [],
   "source": []
  },
  {
   "cell_type": "code",
   "execution_count": null,
   "id": "50ab767f",
   "metadata": {},
   "outputs": [],
   "source": []
  },
  {
   "cell_type": "code",
   "execution_count": null,
   "id": "4fee5539",
   "metadata": {},
   "outputs": [],
   "source": []
  },
  {
   "cell_type": "code",
   "execution_count": null,
   "id": "eb1c4e69",
   "metadata": {},
   "outputs": [],
   "source": []
  },
  {
   "cell_type": "code",
   "execution_count": null,
   "id": "f0c14562",
   "metadata": {},
   "outputs": [],
   "source": []
  },
  {
   "cell_type": "code",
   "execution_count": null,
   "id": "a1316299",
   "metadata": {},
   "outputs": [],
   "source": []
  },
  {
   "cell_type": "code",
   "execution_count": null,
   "id": "51897f2f",
   "metadata": {},
   "outputs": [],
   "source": []
  },
  {
   "cell_type": "code",
   "execution_count": null,
   "id": "7916516c",
   "metadata": {},
   "outputs": [],
   "source": []
  }
 ],
 "metadata": {
  "kernelspec": {
   "display_name": "Python 3 (ipykernel)",
   "language": "python",
   "name": "python3"
  },
  "language_info": {
   "codemirror_mode": {
    "name": "ipython",
    "version": 3
   },
   "file_extension": ".py",
   "mimetype": "text/x-python",
   "name": "python",
   "nbconvert_exporter": "python",
   "pygments_lexer": "ipython3",
   "version": "3.9.7"
  }
 },
 "nbformat": 4,
 "nbformat_minor": 5
}
